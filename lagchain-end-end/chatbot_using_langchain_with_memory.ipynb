{
  "cells": [
    {
      "cell_type": "markdown",
      "metadata": {
        "colab_type": "text",
        "id": "view-in-github"
      },
      "source": [
        "<a href=\"https://colab.research.google.com/github/sunnysavita10/Generative-AI-Indepth-Basic-to-Advance/blob/main/chatbot_using_langchain_with_memory.ipynb\" target=\"_parent\"><img src=\"https://colab.research.google.com/assets/colab-badge.svg\" alt=\"Open In Colab\"/></a>"
      ]
    },
    {
      "cell_type": "code",
      "execution_count": 1,
      "metadata": {
        "id": "4S8C0UITxzUx"
      },
      "outputs": [],
      "source": [
        "import os"
      ]
    },
    {
      "cell_type": "code",
      "execution_count": 2,
      "metadata": {
        "id": "-5iuio2VxbOd"
      },
      "outputs": [],
      "source": [
        "#os.environ[\"LANGCHAIN_TRACING_V2\"] = \"true\"\n",
        "#os.environ[\"LANGCHAIN_API_KEY\"] = \"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\"\n",
        "#os.environ[\"LANGCHAIN_ENDPOINT\"] = \"https://api.smith.langchain.com\"\n",
        "#os.environ[\"LANGCHAIN_PROJECT\"] = \"chatbot_with_langchain\"\n",
        "GROQ_API_KEY=os.getenv(\"GROQ_API_KEY\")\n",
        "\n",
        "os.environ[\"GROQ_API_KEY\"] = GROQ_API_KEY"
      ]
    },
    {
      "cell_type": "code",
      "execution_count": 3,
      "metadata": {
        "id": "FihGZzLnx1i1"
      },
      "outputs": [],
      "source": [
        "from langchain_groq import ChatGroq"
      ]
    },
    {
      "cell_type": "code",
      "execution_count": 4,
      "metadata": {
        "id": "U7XueMuWyKCt"
      },
      "outputs": [],
      "source": [
        "model = ChatGroq(model=\"gemma2-9b-it\")"
      ]
    },
    {
      "cell_type": "code",
      "execution_count": 5,
      "metadata": {
        "colab": {
          "base_uri": "https://localhost:8080/",
          "height": 90
        },
        "id": "csq2KSv7yScs",
        "outputId": "56d948a8-ba61-4ac0-f4d2-42c3f3b3ec19"
      },
      "outputs": [
        {
          "data": {
            "text/plain": [
              "AIMessage(content='Hello! 👋  What can I do for you today?\\n', additional_kwargs={}, response_metadata={'token_usage': {'completion_tokens': 15, 'prompt_tokens': 10, 'total_tokens': 25, 'completion_time': 0.027272727, 'prompt_time': 3.4e-07, 'queue_time': 0.022982397999999998, 'total_time': 0.027273067}, 'model_name': 'gemma2-9b-it', 'system_fingerprint': 'fp_10c08bf97d', 'finish_reason': 'stop', 'logprobs': None}, id='run-3cc3abf9-e22f-408b-b0d0-87ae62180ab4-0', usage_metadata={'input_tokens': 10, 'output_tokens': 15, 'total_tokens': 25})"
            ]
          },
          "execution_count": 5,
          "metadata": {},
          "output_type": "execute_result"
        }
      ],
      "source": [
        "model.invoke(\"hi\")"
      ]
    },
    {
      "cell_type": "code",
      "execution_count": 6,
      "metadata": {
        "id": "DdS7zwgtyXNs"
      },
      "outputs": [],
      "source": [
        "from langchain_core.output_parsers import StrOutputParser"
      ]
    },
    {
      "cell_type": "code",
      "execution_count": 7,
      "metadata": {
        "id": "_SUAIxLkylcl"
      },
      "outputs": [],
      "source": [
        "parser = StrOutputParser()"
      ]
    },
    {
      "cell_type": "code",
      "execution_count": 8,
      "metadata": {
        "colab": {
          "base_uri": "https://localhost:8080/",
          "height": 90
        },
        "id": "DS8er_IlyoD1",
        "outputId": "36328d76-87b9-4047-d834-28f6b40bdebd"
      },
      "outputs": [
        {
          "data": {
            "text/plain": [
              "'Hello! 👋  How can I help you today?\\n'"
            ]
          },
          "execution_count": 8,
          "metadata": {},
          "output_type": "execute_result"
        }
      ],
      "source": [
        "parser.invoke(model.invoke(\"hi\"))"
      ]
    },
    {
      "cell_type": "code",
      "execution_count": 9,
      "metadata": {
        "id": "jA649nEF1Bda"
      },
      "outputs": [],
      "source": [
        "from langchain_core.messages import HumanMessage"
      ]
    },
    {
      "cell_type": "code",
      "execution_count": 10,
      "metadata": {
        "id": "KV4-RZkJ1MUX"
      },
      "outputs": [],
      "source": [
        "import warnings\n",
        "warnings.filterwarnings(\"ignore\")"
      ]
    },
    {
      "cell_type": "code",
      "execution_count": 11,
      "metadata": {
        "id": "2CUWZj0H1HjU"
      },
      "outputs": [],
      "source": [
        "from langchain_core.chat_history import BaseChatMessageHistory"
      ]
    },
    {
      "cell_type": "code",
      "execution_count": 12,
      "metadata": {
        "id": "ovwJtxBL2UUm"
      },
      "outputs": [],
      "source": [
        "from langchain_core.chat_history import InMemoryChatMessageHistory"
      ]
    },
    {
      "cell_type": "code",
      "execution_count": 13,
      "metadata": {
        "id": "QTZIqm7J2V2M"
      },
      "outputs": [],
      "source": [
        "from langchain_core.runnables.history import RunnableWithMessageHistory"
      ]
    },
    {
      "cell_type": "code",
      "execution_count": 14,
      "metadata": {
        "id": "hWOaeqby3Ttb"
      },
      "outputs": [],
      "source": [
        "from langchain_core.messages import AIMessage"
      ]
    },
    {
      "cell_type": "code",
      "execution_count": 15,
      "metadata": {
        "id": "MNuPLxmd2Xtc"
      },
      "outputs": [],
      "source": [
        "result = model.invoke(\n",
        "    [\n",
        "        HumanMessage(content=\"Hi! I'm   Suresh beekhani \"),\n",
        "        AIMessage(content=\"Hello Suresh Beekhani! How can I assist you today?\"),\n",
        "        HumanMessage(content=\"What's my name?\")\n",
        "    ]\n",
        ")"
      ]
    },
    {
      "cell_type": "code",
      "execution_count": 16,
      "metadata": {
        "colab": {
          "base_uri": "https://localhost:8080/",
          "height": 35
        },
        "id": "nG_cTMDT3FRO",
        "outputId": "3adf32b7-4080-425e-bf50-b77a0fb98f04"
      },
      "outputs": [
        {
          "data": {
            "text/plain": [
              "'Your name is Suresh Beekhani.  😊 \\n\\nIs there anything else I can help you with?\\n'"
            ]
          },
          "execution_count": 16,
          "metadata": {},
          "output_type": "execute_result"
        }
      ],
      "source": [
        "parser.invoke(result)"
      ]
    },
    {
      "cell_type": "code",
      "execution_count": 17,
      "metadata": {
        "id": "EnmwiMRs3J4t"
      },
      "outputs": [],
      "source": [
        "store={}"
      ]
    },
    {
      "cell_type": "code",
      "execution_count": 18,
      "metadata": {
        "id": "NJQ3DRcp4A5V"
      },
      "outputs": [],
      "source": [
        "def get_session_history(session_id: str) -> BaseChatMessageHistory:\n",
        "    if session_id not in store:\n",
        "        store[session_id] = InMemoryChatMessageHistory()\n",
        "    return store[session_id]"
      ]
    },
    {
      "cell_type": "code",
      "execution_count": 19,
      "metadata": {
        "id": "gNrB6mZX5KKK"
      },
      "outputs": [],
      "source": [
        "config = {\"configurable\": {\"session_id\": \"firstchat\"}}"
      ]
    },
    {
      "cell_type": "code",
      "execution_count": 20,
      "metadata": {
        "id": "CgNptPvs4WHF"
      },
      "outputs": [],
      "source": [
        "model_with_memory=RunnableWithMessageHistory(model,get_session_history)"
      ]
    },
    {
      "cell_type": "code",
      "execution_count": 21,
      "metadata": {
        "colab": {
          "base_uri": "https://localhost:8080/",
          "height": 87
        },
        "id": "z88Qe8yJ47zt",
        "outputId": "5910f3e0-28e7-4227-c795-cde6f15b4e6c"
      },
      "outputs": [
        {
          "data": {
            "text/plain": [
              "\"Hello Suresh Beekhani, it's nice to meet you! 👋\\n\\nIs there anything I can help you with today?  \\n\\n\""
            ]
          },
          "execution_count": 21,
          "metadata": {},
          "output_type": "execute_result"
        }
      ],
      "source": [
        "model_with_memory.invoke([HumanMessage(content=\"Hi! I'm Suresh beekhani \")],config=config).content"
      ]
    },
    {
      "cell_type": "code",
      "execution_count": 22,
      "metadata": {
        "colab": {
          "base_uri": "https://localhost:8080/",
          "height": 35
        },
        "id": "PF-z4iF95VT1",
        "outputId": "62dd352c-60f3-4bc4-f339-b6e3ec0a4a08"
      },
      "outputs": [
        {
          "data": {
            "text/plain": [
              "'Your name is Suresh Beekhani. You told me at the beginning of our conversation!  😊 \\n\\nIs there anything else I can help you with?\\n'"
            ]
          },
          "execution_count": 22,
          "metadata": {},
          "output_type": "execute_result"
        }
      ],
      "source": [
        "model_with_memory.invoke([HumanMessage(content=\"what is my name?\")],config=config).content"
      ]
    },
    {
      "cell_type": "code",
      "execution_count": 23,
      "metadata": {
        "id": "-vXv3cMy5mGE"
      },
      "outputs": [],
      "source": [
        "config = {\"configurable\": {\"session_id\": \"secondtchat\"}}"
      ]
    },
    {
      "cell_type": "code",
      "execution_count": 24,
      "metadata": {
        "colab": {
          "base_uri": "https://localhost:8080/"
        },
        "id": "x5S2LGmP58OX",
        "outputId": "ee6f0210-d291-4cb8-f6a3-242baba730ba"
      },
      "outputs": [
        {
          "data": {
            "text/plain": [
              "{'configurable': {'session_id': 'secondtchat'}}"
            ]
          },
          "execution_count": 24,
          "metadata": {},
          "output_type": "execute_result"
        }
      ],
      "source": [
        "config"
      ]
    },
    {
      "cell_type": "code",
      "execution_count": 25,
      "metadata": {
        "colab": {
          "base_uri": "https://localhost:8080/",
          "height": 35
        },
        "id": "urT4ryhL52JP",
        "outputId": "a8aeefe7-ccce-44b5-f93d-56c010329544"
      },
      "outputs": [
        {
          "data": {
            "text/plain": [
              "\"As a large language model, I have no memory of past conversations and do not know your name. If you'd like to tell me, I'd be happy to know! 😊\\n\""
            ]
          },
          "execution_count": 25,
          "metadata": {},
          "output_type": "execute_result"
        }
      ],
      "source": [
        "model_with_memory.invoke([HumanMessage(content=\"what is my name?\")],config=config).content"
      ]
    },
    {
      "cell_type": "code",
      "execution_count": 26,
      "metadata": {
        "id": "ypjgSwc76ERZ"
      },
      "outputs": [],
      "source": [
        "config = {\"configurable\": {\"session_id\": \"firstchat\"}}"
      ]
    },
    {
      "cell_type": "code",
      "execution_count": 27,
      "metadata": {
        "colab": {
          "base_uri": "https://localhost:8080/"
        },
        "id": "T9sePfBK6HSJ",
        "outputId": "020ad6a8-c45a-40aa-e1ee-60e72db6ee45"
      },
      "outputs": [
        {
          "data": {
            "text/plain": [
              "{'configurable': {'session_id': 'firstchat'}}"
            ]
          },
          "execution_count": 27,
          "metadata": {},
          "output_type": "execute_result"
        }
      ],
      "source": [
        "config"
      ]
    },
    {
      "cell_type": "code",
      "execution_count": 28,
      "metadata": {
        "colab": {
          "base_uri": "https://localhost:8080/"
        },
        "id": "xJd1mJYh6Tmi",
        "outputId": "9214991c-834a-4574-9227-cfbb15484e56"
      },
      "outputs": [
        {
          "data": {
            "text/plain": [
              "{'firstchat': InMemoryChatMessageHistory(messages=[HumanMessage(content=\"Hi! I'm Suresh beekhani \", additional_kwargs={}, response_metadata={}), AIMessage(content=\"Hello Suresh Beekhani, it's nice to meet you! 👋\\n\\nIs there anything I can help you with today?  \\n\\n\", additional_kwargs={}, response_metadata={'token_usage': {'completion_tokens': 30, 'prompt_tokens': 19, 'total_tokens': 49, 'completion_time': 0.054545455, 'prompt_time': 8.2759e-05, 'queue_time': 0.022297546999999997, 'total_time': 0.054628214}, 'model_name': 'gemma2-9b-it', 'system_fingerprint': 'fp_10c08bf97d', 'finish_reason': 'stop', 'logprobs': None}, id='run-1dd8067b-6702-4568-8730-40e44ffcec5d-0', usage_metadata={'input_tokens': 19, 'output_tokens': 30, 'total_tokens': 49}), HumanMessage(content='what is my name?', additional_kwargs={}, response_metadata={}), AIMessage(content='Your name is Suresh Beekhani. You told me at the beginning of our conversation!  😊 \\n\\nIs there anything else I can help you with?\\n', additional_kwargs={}, response_metadata={'token_usage': {'completion_tokens': 34, 'prompt_tokens': 61, 'total_tokens': 95, 'completion_time': 0.061818182, 'prompt_time': 0.002059405, 'queue_time': 0.020375025, 'total_time': 0.063877587}, 'model_name': 'gemma2-9b-it', 'system_fingerprint': 'fp_10c08bf97d', 'finish_reason': 'stop', 'logprobs': None}, id='run-2f225021-945e-4a51-8d7f-90b2b7dfb4ec-0', usage_metadata={'input_tokens': 61, 'output_tokens': 34, 'total_tokens': 95})]),\n",
              " 'secondtchat': InMemoryChatMessageHistory(messages=[HumanMessage(content='what is my name?', additional_kwargs={}, response_metadata={}), AIMessage(content=\"As a large language model, I have no memory of past conversations and do not know your name. If you'd like to tell me, I'd be happy to know! 😊\\n\", additional_kwargs={}, response_metadata={'token_usage': {'completion_tokens': 41, 'prompt_tokens': 14, 'total_tokens': 55, 'completion_time': 0.074545455, 'prompt_time': 0.000238949, 'queue_time': 0.022620049, 'total_time': 0.074784404}, 'model_name': 'gemma2-9b-it', 'system_fingerprint': 'fp_10c08bf97d', 'finish_reason': 'stop', 'logprobs': None}, id='run-eed7ed1a-603b-4834-9363-55cafbcdc372-0', usage_metadata={'input_tokens': 14, 'output_tokens': 41, 'total_tokens': 55})])}"
            ]
          },
          "execution_count": 28,
          "metadata": {},
          "output_type": "execute_result"
        }
      ],
      "source": [
        "store"
      ]
    },
    {
      "cell_type": "code",
      "execution_count": 29,
      "metadata": {
        "colab": {
          "base_uri": "https://localhost:8080/",
          "height": 35
        },
        "id": "MUQz4Tu25_pl",
        "outputId": "e6396b10-89f9-421e-ddf1-d412f692ee14"
      },
      "outputs": [
        {
          "data": {
            "text/plain": [
              "'Your name is Suresh Beekhani.  \\n\\nI remember! 😊  Is there anything else I can help you with?\\n'"
            ]
          },
          "execution_count": 29,
          "metadata": {},
          "output_type": "execute_result"
        }
      ],
      "source": [
        "model_with_memory.invoke([HumanMessage(content=\"what is my name?\")],config=config).content"
      ]
    },
    {
      "cell_type": "code",
      "execution_count": 30,
      "metadata": {
        "id": "DLDi0qEv6Jl9"
      },
      "outputs": [],
      "source": [
        "from langchain_core.prompts import ChatPromptTemplate, MessagesPlaceholder"
      ]
    },
    {
      "cell_type": "code",
      "execution_count": 31,
      "metadata": {
        "id": "_foKOtDBCrTN"
      },
      "outputs": [],
      "source": [
        "prompt=ChatPromptTemplate.from_messages(\n",
        "    [\n",
        "      (\"system\",\"You are a helpful assistant. Answer all questions to the best of your ability.\",),\n",
        "      MessagesPlaceholder(variable_name=\"messages\"),\n",
        "    ]\n",
        ")"
      ]
    },
    {
      "cell_type": "code",
      "execution_count": 32,
      "metadata": {
        "id": "iimbAou_DLV9"
      },
      "outputs": [],
      "source": [
        "chain = prompt | model"
      ]
    },
    {
      "cell_type": "code",
      "execution_count": 33,
      "metadata": {
        "colab": {
          "base_uri": "https://localhost:8080/"
        },
        "id": "sNpATGrFDctq",
        "outputId": "e5211956-3687-4393-b384-73a92c063378"
      },
      "outputs": [
        {
          "data": {
            "text/plain": [
              "AIMessage(content=\"Hi Suresh Beekhani! 👋\\n\\nIt's nice to meet you.  \\n\\nWhat can I do for you today? 😊 \\n\\n\", additional_kwargs={}, response_metadata={'token_usage': {'completion_tokens': 31, 'prompt_tokens': 34, 'total_tokens': 65, 'completion_time': 0.056363636, 'prompt_time': 0.00032819, 'queue_time': 0.021617, 'total_time': 0.056691826}, 'model_name': 'gemma2-9b-it', 'system_fingerprint': 'fp_10c08bf97d', 'finish_reason': 'stop', 'logprobs': None}, id='run-bd27fd94-99bb-4cd5-a381-7d4e26dea1e4-0', usage_metadata={'input_tokens': 34, 'output_tokens': 31, 'total_tokens': 65})"
            ]
          },
          "execution_count": 33,
          "metadata": {},
          "output_type": "execute_result"
        }
      ],
      "source": [
        "chain.invoke({\"messages\": [\"hi! I'm Suresh beekhani\"]})"
      ]
    },
    {
      "cell_type": "code",
      "execution_count": 34,
      "metadata": {
        "colab": {
          "base_uri": "https://localhost:8080/",
          "height": 35
        },
        "id": "2xqxlgmHDSOO",
        "outputId": "e6e46a29-8e04-436f-d37b-d58ae7943e93"
      },
      "outputs": [
        {
          "data": {
            "text/plain": [
              "\"Hello Sureshbeekhani!\\n\\nNice to meet you.  What can I do for you today? 😊  \\n\\nI'm ready for any questions you have.  \\n\\n\""
            ]
          },
          "execution_count": 34,
          "metadata": {},
          "output_type": "execute_result"
        }
      ],
      "source": [
        "chain.invoke({\"messages\": [HumanMessage(content=\"hi! I'm Sureshbeekhani\")]}).content"
      ]
    },
    {
      "cell_type": "code",
      "execution_count": 35,
      "metadata": {
        "colab": {
          "base_uri": "https://localhost:8080/",
          "height": 35
        },
        "id": "e-Ruhp0aDqld",
        "outputId": "bb99ac8d-2577-482c-8c42-984185702bbc"
      },
      "outputs": [
        {
          "data": {
            "text/plain": [
              "\"As an AI, I have no memory of past conversations and do not know your name. If you'd like to tell me your name, I'd be happy to know! 😊  \\n\\n\""
            ]
          },
          "execution_count": 35,
          "metadata": {},
          "output_type": "execute_result"
        }
      ],
      "source": [
        "chain.invoke({\"messages\": [HumanMessage(content=\"what is my name\")]}).content"
      ]
    },
    {
      "cell_type": "code",
      "execution_count": 36,
      "metadata": {
        "id": "ECEVEifaD2Xk"
      },
      "outputs": [],
      "source": [
        "model_with_memory=RunnableWithMessageHistory(chain,get_session_history)"
      ]
    },
    {
      "cell_type": "code",
      "execution_count": 37,
      "metadata": {
        "id": "srFSbTmLEecx"
      },
      "outputs": [],
      "source": [
        "config = {\"configurable\": {\"session_id\": \"thirdchat\"}}"
      ]
    },
    {
      "cell_type": "code",
      "execution_count": 38,
      "metadata": {
        "id": "DUOKZW96EIZl"
      },
      "outputs": [],
      "source": [
        "\n",
        "response=model_with_memory.invoke(\n",
        "    [HumanMessage(content=\"Hello is Suresh Beekhani\"),\n",
        "     ],config=config\n",
        ")"
      ]
    },
    {
      "cell_type": "code",
      "execution_count": 39,
      "metadata": {
        "colab": {
          "base_uri": "https://localhost:8080/",
          "height": 35
        },
        "id": "jcPchc1bEVlM",
        "outputId": "52798466-bd98-4012-f0a0-a3ad0790b50b"
      },
      "outputs": [
        {
          "data": {
            "text/plain": [
              "\"Hello Suresh Beekhani! \\n\\nIt's nice to meet you. How can I help you today? 😊 \\n\\n\""
            ]
          },
          "execution_count": 39,
          "metadata": {},
          "output_type": "execute_result"
        }
      ],
      "source": [
        "response.content"
      ]
    },
    {
      "cell_type": "code",
      "execution_count": 40,
      "metadata": {
        "colab": {
          "base_uri": "https://localhost:8080/"
        },
        "id": "FLbAX0tGErVV",
        "outputId": "a63e2dbb-03e2-429d-dcbe-6967bfed1cb8"
      },
      "outputs": [
        {
          "name": "stdout",
          "output_type": "stream",
          "text": [
            "Your name is Suresh Beekhani, as you introduced yourself!  😄 \n",
            "\n",
            "\n",
            "\n"
          ]
        }
      ],
      "source": [
        "response=model_with_memory.invoke(\n",
        "    [HumanMessage(content=\"hi what is my name\"),\n",
        "     ],config=config\n",
        ")\n",
        "print(response.content)"
      ]
    },
    {
      "cell_type": "code",
      "execution_count": 41,
      "metadata": {
        "colab": {
          "base_uri": "https://localhost:8080/"
        },
        "id": "FZQ2bd6RExK1",
        "outputId": "4136c8b9-4ac8-44ac-d85a-551cc9ad6345"
      },
      "outputs": [
        {
          "name": "stdout",
          "output_type": "stream",
          "text": [
            "2 + 2 = 4 😊 \n",
            "\n"
          ]
        }
      ],
      "source": [
        "response=model_with_memory.invoke(\n",
        "    [HumanMessage(content=\"what is 2+2?\"),\n",
        "     ],config=config\n",
        ")\n",
        "print(response.content)"
      ]
    },
    {
      "cell_type": "code",
      "execution_count": 42,
      "metadata": {
        "colab": {
          "base_uri": "https://localhost:8080/"
        },
        "id": "pjZZ4ODmE1YE",
        "outputId": "f68d08e8-5e14-4f46-9eb7-44d294d192c9"
      },
      "outputs": [
        {
          "name": "stdout",
          "output_type": "stream",
          "text": [
            "The current captain of the Pakistan cricket team is **Babar Azam**.  🏏 \n",
            "\n",
            "\n",
            "Let me know if you have any other cricket questions! \n",
            "\n"
          ]
        }
      ],
      "source": [
        "response=model_with_memory.invoke(\n",
        "    [HumanMessage(content=\"who is a Pakistan cricket team caption?\"),\n",
        "     ],config=config\n",
        ")\n",
        "print(response.content)"
      ]
    },
    {
      "cell_type": "code",
      "execution_count": 43,
      "metadata": {
        "colab": {
          "base_uri": "https://localhost:8080/"
        },
        "id": "MkbBe3iQE6Ge",
        "outputId": "2774dab5-b08a-4b6b-9557-703112d43fa8"
      },
      "outputs": [
        {
          "name": "stdout",
          "output_type": "stream",
          "text": [
            "You need to add **6** to 2 + 2 (which is 4) to make it 10. \n",
            "\n",
            "4 + 6 = 10  \n",
            "\n",
            "\n",
            "\n",
            "Let me know if you want to try another math problem! 😊\n",
            "\n"
          ]
        }
      ],
      "source": [
        "response=model_with_memory.invoke(\n",
        "    [HumanMessage(content=\"what should i add in previous addition so that i will become 10?\"),\n",
        "     ],config=config\n",
        ")\n",
        "print(response.content)"
      ]
    },
    {
      "cell_type": "code",
      "execution_count": 44,
      "metadata": {
        "colab": {
          "base_uri": "https://localhost:8080/"
        },
        "id": "G0Nc-1SRFBVY",
        "outputId": "fd9e3a18-f5c1-4e11-f837-911af5b98d5b"
      },
      "outputs": [
        {
          "name": "stdout",
          "output_type": "stream",
          "text": [
            "Your name is Suresh Beekhani.  \n",
            "\n",
            "How can I help you further?  \n",
            "\n"
          ]
        }
      ],
      "source": [
        "response=model_with_memory.invoke(\n",
        "    [HumanMessage(content=\"what is my name?\"),\n",
        "     ],config=config\n",
        ")\n",
        "print(response.content)"
      ]
    },
    {
      "cell_type": "code",
      "execution_count": 45,
      "metadata": {
        "colab": {
          "base_uri": "https://localhost:8080/"
        },
        "id": "o-UASbCPFIg0",
        "outputId": "d63dde48-80ee-4178-d8c2-dee3b4ced341"
      },
      "outputs": [
        {
          "data": {
            "text/plain": [
              "{'firstchat': InMemoryChatMessageHistory(messages=[HumanMessage(content=\"Hi! I'm Suresh beekhani \", additional_kwargs={}, response_metadata={}), AIMessage(content=\"Hello Suresh Beekhani, it's nice to meet you! 👋\\n\\nIs there anything I can help you with today?  \\n\\n\", additional_kwargs={}, response_metadata={'token_usage': {'completion_tokens': 30, 'prompt_tokens': 19, 'total_tokens': 49, 'completion_time': 0.054545455, 'prompt_time': 8.2759e-05, 'queue_time': 0.022297546999999997, 'total_time': 0.054628214}, 'model_name': 'gemma2-9b-it', 'system_fingerprint': 'fp_10c08bf97d', 'finish_reason': 'stop', 'logprobs': None}, id='run-1dd8067b-6702-4568-8730-40e44ffcec5d-0', usage_metadata={'input_tokens': 19, 'output_tokens': 30, 'total_tokens': 49}), HumanMessage(content='what is my name?', additional_kwargs={}, response_metadata={}), AIMessage(content='Your name is Suresh Beekhani. You told me at the beginning of our conversation!  😊 \\n\\nIs there anything else I can help you with?\\n', additional_kwargs={}, response_metadata={'token_usage': {'completion_tokens': 34, 'prompt_tokens': 61, 'total_tokens': 95, 'completion_time': 0.061818182, 'prompt_time': 0.002059405, 'queue_time': 0.020375025, 'total_time': 0.063877587}, 'model_name': 'gemma2-9b-it', 'system_fingerprint': 'fp_10c08bf97d', 'finish_reason': 'stop', 'logprobs': None}, id='run-2f225021-945e-4a51-8d7f-90b2b7dfb4ec-0', usage_metadata={'input_tokens': 61, 'output_tokens': 34, 'total_tokens': 95}), HumanMessage(content='what is my name?', additional_kwargs={}, response_metadata={}), AIMessage(content='Your name is Suresh Beekhani.  \\n\\nI remember! 😊  Is there anything else I can help you with?\\n', additional_kwargs={}, response_metadata={'token_usage': {'completion_tokens': 27, 'prompt_tokens': 108, 'total_tokens': 135, 'completion_time': 0.049090909, 'prompt_time': 0.005088537, 'queue_time': 0.022761331, 'total_time': 0.054179446}, 'model_name': 'gemma2-9b-it', 'system_fingerprint': 'fp_10c08bf97d', 'finish_reason': 'stop', 'logprobs': None}, id='run-56091646-ce7f-449d-b271-382c0a54fdd6-0', usage_metadata={'input_tokens': 108, 'output_tokens': 27, 'total_tokens': 135})]),\n",
              " 'secondtchat': InMemoryChatMessageHistory(messages=[HumanMessage(content='what is my name?', additional_kwargs={}, response_metadata={}), AIMessage(content=\"As a large language model, I have no memory of past conversations and do not know your name. If you'd like to tell me, I'd be happy to know! 😊\\n\", additional_kwargs={}, response_metadata={'token_usage': {'completion_tokens': 41, 'prompt_tokens': 14, 'total_tokens': 55, 'completion_time': 0.074545455, 'prompt_time': 0.000238949, 'queue_time': 0.022620049, 'total_time': 0.074784404}, 'model_name': 'gemma2-9b-it', 'system_fingerprint': 'fp_10c08bf97d', 'finish_reason': 'stop', 'logprobs': None}, id='run-eed7ed1a-603b-4834-9363-55cafbcdc372-0', usage_metadata={'input_tokens': 14, 'output_tokens': 41, 'total_tokens': 55})]),\n",
              " 'thirdchat': InMemoryChatMessageHistory(messages=[HumanMessage(content='Hello is Suresh Beekhani', additional_kwargs={}, response_metadata={}), AIMessage(content=\"Hello Suresh Beekhani! \\n\\nIt's nice to meet you. How can I help you today? 😊 \\n\\n\", additional_kwargs={}, response_metadata={'token_usage': {'completion_tokens': 28, 'prompt_tokens': 30, 'total_tokens': 58, 'completion_time': 0.050909091, 'prompt_time': 0.00014244, 'queue_time': 0.021937967, 'total_time': 0.051051531}, 'model_name': 'gemma2-9b-it', 'system_fingerprint': 'fp_10c08bf97d', 'finish_reason': 'stop', 'logprobs': None}, id='run-3b049fd0-1c82-46c5-b49d-ab2583dd0584-0', usage_metadata={'input_tokens': 30, 'output_tokens': 28, 'total_tokens': 58}), HumanMessage(content='hi what is my name', additional_kwargs={}, response_metadata={}), AIMessage(content='Your name is Suresh Beekhani, as you introduced yourself!  😄 \\n\\n\\n', additional_kwargs={}, response_metadata={'token_usage': {'completion_tokens': 18, 'prompt_tokens': 70, 'total_tokens': 88, 'completion_time': 0.032727273, 'prompt_time': 0.002459854, 'queue_time': 0.019970401999999998, 'total_time': 0.035187127}, 'model_name': 'gemma2-9b-it', 'system_fingerprint': 'fp_10c08bf97d', 'finish_reason': 'stop', 'logprobs': None}, id='run-b942d190-0f18-41de-979b-97e2f4fc7a46-0', usage_metadata={'input_tokens': 70, 'output_tokens': 18, 'total_tokens': 88}), HumanMessage(content='what is 2+2?', additional_kwargs={}, response_metadata={}), AIMessage(content='2 + 2 = 4 😊 \\n', additional_kwargs={}, response_metadata={'token_usage': {'completion_tokens': 12, 'prompt_tokens': 103, 'total_tokens': 115, 'completion_time': 0.021818182, 'prompt_time': 0.016649977, 'queue_time': 0.023066877000000003, 'total_time': 0.038468159}, 'model_name': 'gemma2-9b-it', 'system_fingerprint': 'fp_10c08bf97d', 'finish_reason': 'stop', 'logprobs': None}, id='run-16b93df8-845a-452d-94f5-78638d5c5099-0', usage_metadata={'input_tokens': 103, 'output_tokens': 12, 'total_tokens': 115}), HumanMessage(content='who is a Pakistan cricket team caption?', additional_kwargs={}, response_metadata={}), AIMessage(content='The current captain of the Pakistan cricket team is **Babar Azam**.  🏏 \\n\\n\\nLet me know if you have any other cricket questions! \\n', additional_kwargs={}, response_metadata={'token_usage': {'completion_tokens': 33, 'prompt_tokens': 131, 'total_tokens': 164, 'completion_time': 0.06, 'prompt_time': 0.006620133, 'queue_time': 0.022084522, 'total_time': 0.066620133}, 'model_name': 'gemma2-9b-it', 'system_fingerprint': 'fp_10c08bf97d', 'finish_reason': 'stop', 'logprobs': None}, id='run-8a2b0151-e768-432b-8ea4-f173e75d975d-0', usage_metadata={'input_tokens': 131, 'output_tokens': 33, 'total_tokens': 164}), HumanMessage(content='what should i add in previous addition so that i will become 10?', additional_kwargs={}, response_metadata={}), AIMessage(content='You need to add **6** to 2 + 2 (which is 4) to make it 10. \\n\\n4 + 6 = 10  \\n\\n\\n\\nLet me know if you want to try another math problem! 😊\\n', additional_kwargs={}, response_metadata={'token_usage': {'completion_tokens': 54, 'prompt_tokens': 188, 'total_tokens': 242, 'completion_time': 0.098181818, 'prompt_time': 0.009958015, 'queue_time': 0.022059702, 'total_time': 0.108139833}, 'model_name': 'gemma2-9b-it', 'system_fingerprint': 'fp_10c08bf97d', 'finish_reason': 'stop', 'logprobs': None}, id='run-756dafad-dae9-47da-bf0c-685ec6188b42-0', usage_metadata={'input_tokens': 188, 'output_tokens': 54, 'total_tokens': 242}), HumanMessage(content='what is my name?', additional_kwargs={}, response_metadata={}), AIMessage(content='Your name is Suresh Beekhani.  \\n\\nHow can I help you further?  \\n', additional_kwargs={}, response_metadata={'token_usage': {'completion_tokens': 20, 'prompt_tokens': 255, 'total_tokens': 275, 'completion_time': 0.036363636, 'prompt_time': 0.010065894, 'queue_time': 0.02311063, 'total_time': 0.04642953}, 'model_name': 'gemma2-9b-it', 'system_fingerprint': 'fp_10c08bf97d', 'finish_reason': 'stop', 'logprobs': None}, id='run-a744d7cc-6292-4ea3-bff4-29029e413e56-0', usage_metadata={'input_tokens': 255, 'output_tokens': 20, 'total_tokens': 275})])}"
            ]
          },
          "execution_count": 45,
          "metadata": {},
          "output_type": "execute_result"
        }
      ],
      "source": [
        "store"
      ]
    },
    {
      "cell_type": "markdown",
      "metadata": {
        "id": "O2-MqelcXLhU"
      },
      "source": [
        "## trimming the conversation"
      ]
    },
    {
      "cell_type": "code",
      "execution_count": 46,
      "metadata": {
        "id": "DQTMqEgC1xnr"
      },
      "outputs": [],
      "source": [
        "from langchain_core.messages import SystemMessage, trim_messages"
      ]
    },
    {
      "cell_type": "code",
      "execution_count": 47,
      "metadata": {
        "id": "UvgZL0Zl1zPp"
      },
      "outputs": [],
      "source": [
        "trimmer = trim_messages(\n",
        "    max_tokens=40,\n",
        "    strategy=\"last\",\n",
        "    token_counter=model,\n",
        "    include_system=True,\n",
        "    allow_partial=False,\n",
        "    start_on=\"human\",\n",
        ")"
      ]
    },
    {
      "cell_type": "code",
      "execution_count": 48,
      "metadata": {
        "id": "13lKIaG82QBM"
      },
      "outputs": [],
      "source": [
        "messages = [\n",
        "    HumanMessage(content=\"hi! I'm bob\"),\n",
        "    AIMessage(content=\"hi!\"),\n",
        "    HumanMessage(content=\"I like vanilla ice cream\"),\n",
        "    AIMessage(content=\"nice\"),\n",
        "    HumanMessage(content=\"whats 2 + 2\"),\n",
        "    AIMessage(content=\"4\"),\n",
        "    HumanMessage(content=\"thanks\"),\n",
        "    AIMessage(content=\"no problem!\"),\n",
        "    HumanMessage(content=\"having fun?\"),\n",
        "    AIMessage(content=\"yes!\"),\n",
        "]"
      ]
    },
    {
      "cell_type": "code",
      "execution_count": 49,
      "metadata": {
        "colab": {
          "base_uri": "https://localhost:8080/"
        },
        "id": "kqGu2Zda2Ryy",
        "outputId": "0efa5731-f0b9-4751-ac1a-98615b25e170"
      },
      "outputs": [
        {
          "data": {
            "text/plain": [
              "47"
            ]
          },
          "execution_count": 49,
          "metadata": {},
          "output_type": "execute_result"
        }
      ],
      "source": [
        "model.get_num_tokens_from_messages(messages)"
      ]
    },
    {
      "cell_type": "code",
      "execution_count": 50,
      "metadata": {
        "colab": {
          "base_uri": "https://localhost:8080/"
        },
        "id": "uN9_6nINlHz2",
        "outputId": "9dc4d59e-ea6c-481d-cd9a-b7e7d7b4029f"
      },
      "outputs": [
        {
          "data": {
            "text/plain": [
              "[HumanMessage(content='I like vanilla ice cream', additional_kwargs={}, response_metadata={}),\n",
              " AIMessage(content='nice', additional_kwargs={}, response_metadata={}),\n",
              " HumanMessage(content='whats 2 + 2', additional_kwargs={}, response_metadata={}),\n",
              " AIMessage(content='4', additional_kwargs={}, response_metadata={}),\n",
              " HumanMessage(content='thanks', additional_kwargs={}, response_metadata={}),\n",
              " AIMessage(content='no problem!', additional_kwargs={}, response_metadata={}),\n",
              " HumanMessage(content='having fun?', additional_kwargs={}, response_metadata={}),\n",
              " AIMessage(content='yes!', additional_kwargs={}, response_metadata={})]"
            ]
          },
          "execution_count": 50,
          "metadata": {},
          "output_type": "execute_result"
        }
      ],
      "source": [
        "trimmer.invoke(messages)"
      ]
    },
    {
      "cell_type": "code",
      "execution_count": 51,
      "metadata": {
        "id": "QOyyzqgX0lNR"
      },
      "outputs": [],
      "source": [
        "trimmed_message = trimmer.invoke(messages)"
      ]
    },
    {
      "cell_type": "code",
      "execution_count": 52,
      "metadata": {
        "colab": {
          "base_uri": "https://localhost:8080/"
        },
        "id": "aPzYA49N0ngI",
        "outputId": "d33d109f-c160-40af-973d-230d8ef147fc"
      },
      "outputs": [
        {
          "data": {
            "text/plain": [
              "36"
            ]
          },
          "execution_count": 52,
          "metadata": {},
          "output_type": "execute_result"
        }
      ],
      "source": [
        "model.get_num_tokens_from_messages(trimmed_message)"
      ]
    },
    {
      "cell_type": "code",
      "execution_count": 53,
      "metadata": {
        "id": "o2kuCwBr2_77"
      },
      "outputs": [],
      "source": [
        "prompt=ChatPromptTemplate.from_messages(\n",
        "    [\n",
        "      (\"system\",\"You are a helpful assistant. Answer all questions to the best of your ability.\",),\n",
        "      MessagesPlaceholder(variable_name=\"messages\"),\n",
        "    ]\n",
        ")"
      ]
    },
    {
      "cell_type": "code",
      "execution_count": 54,
      "metadata": {
        "colab": {
          "base_uri": "https://localhost:8080/"
        },
        "id": "S2lrmXS23ILH",
        "outputId": "7ed6226a-2b2d-4f50-f4ac-f882c72b0464"
      },
      "outputs": [
        {
          "data": {
            "text/plain": [
              "[HumanMessage(content=\"hi! I'm bob\", additional_kwargs={}, response_metadata={}),\n",
              " AIMessage(content='hi!', additional_kwargs={}, response_metadata={}),\n",
              " HumanMessage(content='I like vanilla ice cream', additional_kwargs={}, response_metadata={}),\n",
              " AIMessage(content='nice', additional_kwargs={}, response_metadata={}),\n",
              " HumanMessage(content='whats 2 + 2', additional_kwargs={}, response_metadata={}),\n",
              " AIMessage(content='4', additional_kwargs={}, response_metadata={}),\n",
              " HumanMessage(content='thanks', additional_kwargs={}, response_metadata={}),\n",
              " AIMessage(content='no problem!', additional_kwargs={}, response_metadata={}),\n",
              " HumanMessage(content='having fun?', additional_kwargs={}, response_metadata={}),\n",
              " AIMessage(content='yes!', additional_kwargs={}, response_metadata={})]"
            ]
          },
          "execution_count": 54,
          "metadata": {},
          "output_type": "execute_result"
        }
      ],
      "source": [
        "messages"
      ]
    },
    {
      "cell_type": "code",
      "execution_count": 55,
      "metadata": {
        "colab": {
          "base_uri": "https://localhost:8080/"
        },
        "id": "212g4NcG3LRB",
        "outputId": "c7093f2b-39e3-4f07-b4e4-743d2a70a809"
      },
      "outputs": [
        {
          "data": {
            "text/plain": [
              "[HumanMessage(content='I like vanilla ice cream', additional_kwargs={}, response_metadata={}),\n",
              " AIMessage(content='nice', additional_kwargs={}, response_metadata={}),\n",
              " HumanMessage(content='whats 2 + 2', additional_kwargs={}, response_metadata={}),\n",
              " AIMessage(content='4', additional_kwargs={}, response_metadata={}),\n",
              " HumanMessage(content='thanks', additional_kwargs={}, response_metadata={}),\n",
              " AIMessage(content='no problem!', additional_kwargs={}, response_metadata={}),\n",
              " HumanMessage(content='having fun?', additional_kwargs={}, response_metadata={}),\n",
              " AIMessage(content='yes!', additional_kwargs={}, response_metadata={})]"
            ]
          },
          "execution_count": 55,
          "metadata": {},
          "output_type": "execute_result"
        }
      ],
      "source": [
        "trimmed_message"
      ]
    },
    {
      "cell_type": "code",
      "execution_count": 56,
      "metadata": {
        "colab": {
          "base_uri": "https://localhost:8080/"
        },
        "id": "cPRZXXsy3Oag",
        "outputId": "bd4db7fb-86e0-4047-ef8e-94ab182c3a3b"
      },
      "outputs": [
        {
          "data": {
            "text/plain": [
              "[HumanMessage(content='I like vanilla ice cream', additional_kwargs={}, response_metadata={}),\n",
              " AIMessage(content='nice', additional_kwargs={}, response_metadata={}),\n",
              " HumanMessage(content='whats 2 + 2', additional_kwargs={}, response_metadata={}),\n",
              " AIMessage(content='4', additional_kwargs={}, response_metadata={}),\n",
              " HumanMessage(content='thanks', additional_kwargs={}, response_metadata={}),\n",
              " AIMessage(content='no problem!', additional_kwargs={}, response_metadata={}),\n",
              " HumanMessage(content='having fun?', additional_kwargs={}, response_metadata={}),\n",
              " AIMessage(content='yes!', additional_kwargs={}, response_metadata={}),\n",
              " HumanMessage(content=\"what's my name?\", additional_kwargs={}, response_metadata={})]"
            ]
          },
          "execution_count": 56,
          "metadata": {},
          "output_type": "execute_result"
        }
      ],
      "source": [
        "trimmed_message+[HumanMessage(content=\"what's my name?\")]"
      ]
    },
    {
      "cell_type": "code",
      "execution_count": 57,
      "metadata": {
        "colab": {
          "base_uri": "https://localhost:8080/"
        },
        "id": "hUJ3iuOG3Yak",
        "outputId": "1b570865-96a1-4729-99d7-789bf4924f39"
      },
      "outputs": [
        {
          "data": {
            "text/plain": [
              "[HumanMessage(content=\"hi! I'm bob\", additional_kwargs={}, response_metadata={}),\n",
              " AIMessage(content='hi!', additional_kwargs={}, response_metadata={}),\n",
              " HumanMessage(content='I like vanilla ice cream', additional_kwargs={}, response_metadata={}),\n",
              " AIMessage(content='nice', additional_kwargs={}, response_metadata={}),\n",
              " HumanMessage(content='whats 2 + 2', additional_kwargs={}, response_metadata={}),\n",
              " AIMessage(content='4', additional_kwargs={}, response_metadata={}),\n",
              " HumanMessage(content='thanks', additional_kwargs={}, response_metadata={}),\n",
              " AIMessage(content='no problem!', additional_kwargs={}, response_metadata={}),\n",
              " HumanMessage(content='having fun?', additional_kwargs={}, response_metadata={}),\n",
              " AIMessage(content='yes!', additional_kwargs={}, response_metadata={}),\n",
              " HumanMessage(content=\"what's my name?\", additional_kwargs={}, response_metadata={})]"
            ]
          },
          "execution_count": 57,
          "metadata": {},
          "output_type": "execute_result"
        }
      ],
      "source": [
        "messages+[HumanMessage(content=\"what's my name?\")]"
      ]
    },
    {
      "cell_type": "code",
      "execution_count": 58,
      "metadata": {
        "colab": {
          "base_uri": "https://localhost:8080/",
          "height": 35
        },
        "id": "IG4Ux0YKlkTg",
        "outputId": "640fbdb9-6293-4b26-9049-407c481de524"
      },
      "outputs": [
        {
          "data": {
            "text/plain": [
              "'I do not have access to past conversations or any personal information about you, including your name.  \\n\\nWould you like to tell me your name? 😊\\n'"
            ]
          },
          "execution_count": 58,
          "metadata": {},
          "output_type": "execute_result"
        }
      ],
      "source": [
        "from operator import itemgetter\n",
        "\n",
        "from langchain_core.runnables import RunnablePassthrough\n",
        "\n",
        "chain = (\n",
        "    RunnablePassthrough.assign(messages=itemgetter(\"messages\") | trimmer)\n",
        "    | prompt\n",
        "    | model\n",
        ")\n",
        "\n",
        "response = chain.invoke(\n",
        "    {\n",
        "        \"messages\": messages + [HumanMessage(content=\"what's my name?\")],\n",
        "        \"language\": \"English\",\n",
        "    }\n",
        ")\n",
        "response.content"
      ]
    },
    {
      "cell_type": "code",
      "execution_count": 59,
      "metadata": {
        "colab": {
          "base_uri": "https://localhost:8080/",
          "height": 35
        },
        "id": "4enzWFIXmRqX",
        "outputId": "b1a516fa-72ca-46b7-da0b-cfac6e30be2f"
      },
      "outputs": [
        {
          "data": {
            "text/plain": [
              "'You asked \"whats 2 + 2\" 😊  \\n\\n\\nDo you want to try another one?\\n'"
            ]
          },
          "execution_count": 59,
          "metadata": {},
          "output_type": "execute_result"
        }
      ],
      "source": [
        "response = chain.invoke(\n",
        "    {\n",
        "        \"messages\": messages + [HumanMessage(content=\"what math problem did i ask\")],\n",
        "        \"language\": \"English\",\n",
        "    }\n",
        ")\n",
        "response.content"
      ]
    },
    {
      "cell_type": "code",
      "execution_count": 60,
      "metadata": {
        "id": "pLIK9Vj14PY0"
      },
      "outputs": [],
      "source": [
        "model_with_memory = RunnableWithMessageHistory(\n",
        "    chain,\n",
        "    get_session_history,\n",
        "    input_messages_key=\"messages\",\n",
        ")\n"
      ]
    },
    {
      "cell_type": "code",
      "execution_count": 61,
      "metadata": {
        "id": "hQpDrVrZmWFW"
      },
      "outputs": [],
      "source": [
        "config = {\"configurable\": {\"session_id\": \"fifthchat\"}}"
      ]
    },
    {
      "cell_type": "code",
      "execution_count": 62,
      "metadata": {
        "colab": {
          "base_uri": "https://localhost:8080/",
          "height": 35
        },
        "id": "zomzpWPGm19R",
        "outputId": "0b1720fa-b733-4ed8-bcdd-e22e9cbf8e1c"
      },
      "outputs": [
        {
          "data": {
            "text/plain": [
              "\"As a large language model, I don't have access to any personal information about you, including your name.  \\n\\nWould you like to tell me your name? 😊\\n\""
            ]
          },
          "execution_count": 62,
          "metadata": {},
          "output_type": "execute_result"
        }
      ],
      "source": [
        "response = model_with_memory.invoke(\n",
        "    {\n",
        "        \"messages\": messages + [HumanMessage(content=\"whats my name?\")],\n",
        "        \"language\": \"English\",\n",
        "    },\n",
        "    config=config,\n",
        ")\n",
        "\n",
        "response.content"
      ]
    },
    {
      "cell_type": "code",
      "execution_count": 63,
      "metadata": {
        "colab": {
          "base_uri": "https://localhost:8080/",
          "height": 35
        },
        "id": "BLOpblwum4Nm",
        "outputId": "eb4cf00c-1cd6-4ff7-82f9-373d96c92f72"
      },
      "outputs": [
        {
          "data": {
            "text/plain": [
              "\"As a large language model, I do not have memory of past conversations. Every interaction we have is fresh and new. So, you haven't asked me a math problem yet! \\n\\nWhat math problem can I help you with? 😊  \\n\\n\""
            ]
          },
          "execution_count": 63,
          "metadata": {},
          "output_type": "execute_result"
        }
      ],
      "source": [
        "response = model_with_memory.invoke(\n",
        "    {\n",
        "        \"messages\": [HumanMessage(content=\"what math problem did i ask?\")],\n",
        "        \"language\": \"English\",\n",
        "    },\n",
        "    config=config,\n",
        ")\n",
        "\n",
        "response.content"
      ]
    }
  ],
  "metadata": {
    "colab": {
      "authorship_tag": "ABX9TyPyBe/lGPyKYhr9vI4sYjzD",
      "include_colab_link": true,
      "provenance": []
    },
    "kernelspec": {
      "display_name": "Python 3",
      "name": "python3"
    },
    "language_info": {
      "codemirror_mode": {
        "name": "ipython",
        "version": 3
      },
      "file_extension": ".py",
      "mimetype": "text/x-python",
      "name": "python",
      "nbconvert_exporter": "python",
      "pygments_lexer": "ipython3",
      "version": "3.10.16"
    }
  },
  "nbformat": 4,
  "nbformat_minor": 0
}
