{
 "cells": [
  {
   "cell_type": "markdown",
   "metadata": {},
   "source": [
    "#### **For some actions, you may want to require human approval before running to ensure that everything is running as intended.**"
   ]
  },
  {
   "cell_type": "code",
   "execution_count": 1,
   "metadata": {},
   "outputs": [],
   "source": [
    "\n",
    "from typing import Annotated\n",
    "import operator,json\n",
    "from typing import TypedDict, Annotated, Sequence\n",
    "from typing_extensions import TypedDict\n",
    "from langchain_core.messages import BaseMessage\n",
    "from langgraph.checkpoint.memory import MemorySaver\n",
    "from langgraph.graph import StateGraph,END,START\n",
    "from langgraph.graph.message import add_messages\n",
    "from langgraph.prebuilt import ToolNode, tools_condition\n",
    "from langchain_core.tools import tool\n",
    "from langchain_community.tools.tavily_search import TavilySearchResults"
   ]
  },
  {
   "cell_type": "code",
   "execution_count": 2,
   "metadata": {},
   "outputs": [],
   "source": [
    "from langchain_groq import ChatGroq\n",
    "llm=ChatGroq(model_name=\"Gemma2-9b-It\")"
   ]
  },
  {
   "cell_type": "code",
   "execution_count": 3,
   "metadata": {},
   "outputs": [
    {
     "data": {
      "text/plain": [
       "AIMessage(content='Hi! 👋 What can I do for you today?\\n', additional_kwargs={}, response_metadata={'token_usage': {'completion_tokens': 14, 'prompt_tokens': 10, 'total_tokens': 24, 'completion_time': 0.025454545, 'prompt_time': 3.7e-07, 'queue_time': 0.024033985, 'total_time': 0.025454915}, 'model_name': 'Gemma2-9b-It', 'system_fingerprint': 'fp_10c08bf97d', 'finish_reason': 'stop', 'logprobs': None}, id='run-de407438-c42d-4aea-9986-71c5712cd860-0', usage_metadata={'input_tokens': 10, 'output_tokens': 14, 'total_tokens': 24})"
      ]
     },
     "execution_count": 3,
     "metadata": {},
     "output_type": "execute_result"
    }
   ],
   "source": [
    "llm.invoke(\"hi\")"
   ]
  },
  {
   "cell_type": "code",
   "execution_count": 4,
   "metadata": {},
   "outputs": [
    {
     "data": {
      "text/plain": [
       "'Hi! 👋 How can I help you today? 😊\\n'"
      ]
     },
     "execution_count": 4,
     "metadata": {},
     "output_type": "execute_result"
    }
   ],
   "source": [
    "llm.invoke(\"hi\").content"
   ]
  },
  {
   "cell_type": "code",
   "execution_count": 5,
   "metadata": {},
   "outputs": [],
   "source": [
    "@tool\n",
    "def multiply(first_number:int, second_number:int)->int:\n",
    "    \"\"\"multiply two integer number\"\"\"\n",
    "    return first_number * second_number"
   ]
  },
  {
   "cell_type": "code",
   "execution_count": 6,
   "metadata": {},
   "outputs": [
    {
     "name": "stderr",
     "output_type": "stream",
     "text": [
      "C:\\Users\\SURESH BEEKHANI\\AppData\\Local\\Temp\\ipykernel_9536\\2089873997.py:1: LangChainDeprecationWarning: The method `BaseTool.__call__` was deprecated in langchain-core 0.1.47 and will be removed in 1.0. Use :meth:`~invoke` instead.\n",
      "  multiply({\"first_number\":24,\"second_number\":364})\n"
     ]
    },
    {
     "data": {
      "text/plain": [
       "8736"
      ]
     },
     "execution_count": 6,
     "metadata": {},
     "output_type": "execute_result"
    }
   ],
   "source": [
    "multiply({\"first_number\":24,\"second_number\":364})"
   ]
  },
  {
   "cell_type": "code",
   "execution_count": 7,
   "metadata": {},
   "outputs": [
    {
     "data": {
      "text/plain": [
       "8736"
      ]
     },
     "execution_count": 7,
     "metadata": {},
     "output_type": "execute_result"
    }
   ],
   "source": [
    "multiply.invoke({\"first_number\":24,\"second_number\":364})"
   ]
  },
  {
   "cell_type": "code",
   "execution_count": 8,
   "metadata": {},
   "outputs": [],
   "source": [
    "@tool\n",
    "def search(query:str):\n",
    "    \"\"\"perform the web search on the user query\"\"\"\n",
    "    tavily=TavilySearchResults()\n",
    "    result=tavily.invoke(query)\n",
    "    return result"
   ]
  },
  {
   "cell_type": "code",
   "execution_count": 9,
   "metadata": {},
   "outputs": [
    {
     "data": {
      "text/plain": [
       "[{'url': 'https://www.usa.gov/presidents',\n",
       "  'content': 'Presidents, vice presidents, and first ladies | USAGov An official website of the United States government A .gov website belongs to an official government organization in the United States. Learn about the duties of president, vice president, and first lady of the United States. President of the United States The president of the United States is the: Former U.S. presidents The United States has had 46 former U.S. presidents. Vice president of the United States The vice president of the United States presides over the U.S. Senate and takes over the role of president of the United States if the president is unable to perform their duties. The 50th and current vice president of the United States is James David (JD) Vance.'},\n",
       " {'url': 'https://www.whitehouse.gov/administration/',\n",
       "  'content': 'The Trump Administration Search Search for:  Press Enter to Search Trump 45th & 47th President of the United States After a landslide election victory in 2024, President Donald J. Vice President of the United States In 2024, President Donald J. JD looks forward to serving with President Trump over the next four years as they work diligently to Make America Great Again. Melania Trump FIRST Lady of the United States First Lady Melania Trump is the wife of the 45th and 47th President, Donald J. SECOND Lady of the United States Second Lady Usha Vance is the proud wife of Vice President JD Vance and the mother of their three beautiful children, Ewan, Vivek, and Mirabel. President Trump’s Team'},\n",
       " {'url': 'https://www.whitehouse.gov/',\n",
       "  'content': 'The White House Administration The White House President Donald J. Trump Search Administration Search for:  Press Enter to Search America Is Back This will truly be the golden age of America. The Administration Trump President of the United States VICE PRESIDENT OF THE UNITED STATES Melania Trump First Lady OF THE UNITED STATES Of the 47th Administration President Trump is committed to lowering costs for all Americans, securing our borders, unleashing American energy dominance, restoring peace through strength, and making all Americans safe and secure once again. Get direct updates from The White House in your inbox. The White house THE WHITE HOUSE Administration The White House 1600 Pennsylvania Ave NW'},\n",
       " {'url': 'https://usun.usmission.gov/our-leaders/the-president-of-the-united-states/',\n",
       "  'content': 'President of the United States - United States Mission to the United Nations United States Mission to the United Nations U.S. Mission Leaders President of the United States Vice President of the United States Sections Executive Section Economic and Social Section Legal Section Management Section Political Section Remarks and Highlights President of the United States Home Home | Our Leaders | President of the United States Trump serves as the 47th President of the United States. U.S. MISSION TO THE UN United States Mission to the United Nations This is the official website of the U.S. Mission to the United Nations. External links to other Internet sites should not be construed as an endorsement of the views or privacy policies contained therein.'},\n",
       " {'url': 'https://www.instagram.com/potus/?hl=en',\n",
       "  'content': 'President Donald J. Trump 45th & 47th President of the United States. The Golden Age of America Begins Right Now.'}]"
      ]
     },
     "execution_count": 9,
     "metadata": {},
     "output_type": "execute_result"
    }
   ],
   "source": [
    "search(\"who is a current president of USA?\")"
   ]
  },
  {
   "cell_type": "code",
   "execution_count": 10,
   "metadata": {},
   "outputs": [
    {
     "data": {
      "text/plain": [
       "[{'url': 'https://www.local.com.pk/government/offices/president/',\n",
       "  'content': 'Asif Ali Zardari became 14th President of Pakistan on 10 March 2024. He earlier served as the 11th president of Pakistan from 2008 to 2013.'},\n",
       " {'url': 'https://mofa.gov.pk/president-of-pakistan',\n",
       "  'content': 'Asif Ali Zardari is the 14th President of Pakistan. He took the oath of the office on 10 March 2024. Previously, he served as the 11th President of Pakistan'},\n",
       " {'url': 'https://pakun.org/president-of-pakistan',\n",
       "  'content': 'Following the successful presidential election, Mr Zardari has been elected as the 14th President of Pakistan. He took the oath of the office of the President'},\n",
       " {'url': 'https://pakistan.gov.pk/',\n",
       "  'content': 'Government of Pakistan Federal Government Federal Ministers National Assembly of Pakistan Ministries & Divisions Supreme Court of Pakistan High Court of Sindh High Court of Balochistan About Pakistan The President of Pakistan President Mr Asif Ali Zardari is the 14th President of the Islamic Republic of Pakistan and was sworn in office on the 10th of March 2024. Prime Minister of Pakistan Prime Minister of the Islamic Republic of Pakistan and President of the Pakistan Muslim League (N) Securities & Exchange Commission of Pakistan The President of Pakistan Open Data Pakistan Federal Laws Federal Public Service Commission Punjab Public Service Commission Sindh Public Service Commission Balochistan Public Service Commission Azad Jammu & Kashmir Public Service Commission © 2023 Government of Pakistan'},\n",
       " {'url': 'https://president.gov.pk/about/president-asif-ali-zardari',\n",
       "  'content': 'Following the successful presidential election, Mr Zardari has been elected as the 14th President of Pakistan. He took the oath of the office of the President'}]"
      ]
     },
     "execution_count": 10,
     "metadata": {},
     "output_type": "execute_result"
    }
   ],
   "source": [
    "search.invoke(\"who is a current president of Pakistan?\")"
   ]
  },
  {
   "cell_type": "code",
   "execution_count": 11,
   "metadata": {},
   "outputs": [],
   "source": [
    "tools=[search,multiply]"
   ]
  },
  {
   "cell_type": "code",
   "execution_count": 12,
   "metadata": {},
   "outputs": [],
   "source": [
    "model_with_tools = llm.bind_tools(tools)"
   ]
  },
  {
   "cell_type": "code",
   "execution_count": 13,
   "metadata": {},
   "outputs": [],
   "source": [
    "tool_mapping={tool.name: tool for tool in tools}"
   ]
  },
  {
   "cell_type": "code",
   "execution_count": 14,
   "metadata": {},
   "outputs": [
    {
     "data": {
      "text/plain": [
       "{'search': StructuredTool(name='search', description='perform the web search on the user query', args_schema=<class 'langchain_core.utils.pydantic.search'>, func=<function search at 0x000002460AA312D0>),\n",
       " 'multiply': StructuredTool(name='multiply', description='multiply two integer number', args_schema=<class 'langchain_core.utils.pydantic.multiply'>, func=<function multiply at 0x000002460AA30F70>)}"
      ]
     },
     "execution_count": 14,
     "metadata": {},
     "output_type": "execute_result"
    }
   ],
   "source": [
    "tool_mapping"
   ]
  },
  {
   "cell_type": "code",
   "execution_count": 34,
   "metadata": {},
   "outputs": [],
   "source": [
    "response = model_with_tools.invoke(\"who is a current president of CM Of sindh?\")"
   ]
  },
  {
   "cell_type": "code",
   "execution_count": 35,
   "metadata": {},
   "outputs": [
    {
     "data": {
      "text/plain": [
       "AIMessage(content='', additional_kwargs={'tool_calls': [{'id': 'call_gry4', 'function': {'arguments': '{\"query\":\"who is the current president of CM Of sindh?\"}', 'name': 'search'}, 'type': 'function'}]}, response_metadata={'token_usage': {'completion_tokens': 89, 'prompt_tokens': 1079, 'total_tokens': 1168, 'completion_time': 0.161818182, 'prompt_time': 0.044573159, 'queue_time': 0.024667435, 'total_time': 0.206391341}, 'model_name': 'Gemma2-9b-It', 'system_fingerprint': 'fp_10c08bf97d', 'finish_reason': 'tool_calls', 'logprobs': None}, id='run-41842999-a114-4999-9c21-0b20475bc93f-0', tool_calls=[{'name': 'search', 'args': {'query': 'who is the current president of CM Of sindh?'}, 'id': 'call_gry4', 'type': 'tool_call'}], usage_metadata={'input_tokens': 1079, 'output_tokens': 89, 'total_tokens': 1168})"
      ]
     },
     "execution_count": 35,
     "metadata": {},
     "output_type": "execute_result"
    }
   ],
   "source": [
    "response"
   ]
  },
  {
   "cell_type": "code",
   "execution_count": 36,
   "metadata": {},
   "outputs": [],
   "source": [
    "tool_details=response.additional_kwargs.get(\"tool_calls\")"
   ]
  },
  {
   "cell_type": "code",
   "execution_count": 37,
   "metadata": {},
   "outputs": [
    {
     "data": {
      "text/plain": [
       "[{'id': 'call_gry4',\n",
       "  'function': {'arguments': '{\"query\":\"who is the current president of CM Of sindh?\"}',\n",
       "   'name': 'search'},\n",
       "  'type': 'function'}]"
      ]
     },
     "execution_count": 37,
     "metadata": {},
     "output_type": "execute_result"
    }
   ],
   "source": [
    "tool_details"
   ]
  },
  {
   "cell_type": "code",
   "execution_count": 38,
   "metadata": {},
   "outputs": [
    {
     "data": {
      "text/plain": [
       "'search'"
      ]
     },
     "execution_count": 38,
     "metadata": {},
     "output_type": "execute_result"
    }
   ],
   "source": [
    "tool_details[0][\"function\"][\"name\"]"
   ]
  },
  {
   "cell_type": "code",
   "execution_count": 39,
   "metadata": {},
   "outputs": [
    {
     "data": {
      "text/plain": [
       "'{\"query\":\"who is the current president of CM Of sindh?\"}'"
      ]
     },
     "execution_count": 39,
     "metadata": {},
     "output_type": "execute_result"
    }
   ],
   "source": [
    "tool_details[0][\"function\"][\"arguments\"]"
   ]
  },
  {
   "cell_type": "code",
   "execution_count": 40,
   "metadata": {},
   "outputs": [
    {
     "data": {
      "text/plain": [
       "{'query': 'who is the current president of CM Of sindh?'}"
      ]
     },
     "execution_count": 40,
     "metadata": {},
     "output_type": "execute_result"
    }
   ],
   "source": [
    "json.loads(tool_details[0][\"function\"][\"arguments\"])"
   ]
  },
  {
   "cell_type": "code",
   "execution_count": 41,
   "metadata": {},
   "outputs": [
    {
     "data": {
      "text/plain": [
       "[{'url': 'https://en.wikipedia.org/wiki/Chief_Minister_of_Sindh',\n",
       "  'content': 'Syed Murad Ali Shah is the current Chief Minister of Sindh, serving since 26 February 2024. The chief minister is the head of the provincial government.'},\n",
       " {'url': 'https://sindhinvestment.gos.pk/cm-message',\n",
       "  'content': 'President Zardari also laid the foundation stone of the Jhirk-Mulla Katiar Bridge project which is completed in 2017, it links important cities of lower Sindh,'},\n",
       " {'url': 'https://www.facebook.com/SindhCMHouse/videos/karachi-january-6th-2025-chief-minister-of-sindh-syed-murad-ali-shah-along-with-/1296859604968649/',\n",
       "  'content': 'KARACHI (January 6th, 2025): Chief Minister of Sindh, Syed Murad Ali Shah, along with Madam Faryal Talpur, former chief minister Syed Qaim'},\n",
       " {'url': 'https://en.wikipedia.org/wiki/Murad_Ali_Shah',\n",
       "  'content': 'Syed Murad Ali Shah is a Pakistani politician and structural engineer who is currently serving as the Chief Minister of Sindh province of Pakistan and a'},\n",
       " {'url': 'https://www.dawn.com/news/1817289',\n",
       "  'content': 'PPP leader Syed Murad Ali Shah on Monday was elected the Sindh chief minister for the third time in a row.'}]"
      ]
     },
     "execution_count": 41,
     "metadata": {},
     "output_type": "execute_result"
    }
   ],
   "source": [
    "tool_mapping[tool_details[0][\"function\"][\"name\"]].invoke(json.loads(tool_details[0][\"function\"][\"arguments\"]))"
   ]
  },
  {
   "cell_type": "code",
   "execution_count": 42,
   "metadata": {},
   "outputs": [],
   "source": [
    "class AgentState(TypedDict):\n",
    "    messages: Annotated[Sequence[BaseMessage], operator.add]"
   ]
  },
  {
   "cell_type": "code",
   "execution_count": 43,
   "metadata": {},
   "outputs": [],
   "source": [
    "def invoke_model(state:AgentState):\n",
    "    messages = state['messages']\n",
    "    question = messages[-1]   ## Fetching the user question\n",
    "    return {\"messages\":[model_with_tools.invoke(question)]}"
   ]
  },
  {
   "cell_type": "code",
   "execution_count": 44,
   "metadata": {},
   "outputs": [],
   "source": [
    "def invoke_tool(state:AgentState):\n",
    "    tool_details= state['messages'][-1].additional_kwargs.get(\"tool_calls\", [])[0]\n",
    "    \n",
    "    if tool_details is None:\n",
    "        raise Exception(\"no tool call found\")\n",
    "    \n",
    "    print(f'Selected tool: {tool_details.get(\"function\").get(\"name\")}')\n",
    "    \n",
    "    if tool_details.get(\"function\").get(\"name\")==\"search\":\n",
    "        response = input(prompt=f\"[y/n] continue with expensive web search?\")\n",
    "        if response == \"n\":\n",
    "            raise Exception(\"web search discard\")\n",
    "        \n",
    "    response = tool_mapping[tool_details['function']['name']].invoke(json.loads(tool_details.get(\"function\").get(\"arguments\")))\n",
    "    return {\"messages\" : [response]}"
   ]
  },
  {
   "cell_type": "code",
   "execution_count": 45,
   "metadata": {},
   "outputs": [],
   "source": [
    "def router(state):\n",
    "    tool_calls = state['messages'][-1].additional_kwargs.get(\"tool_calls\", [])\n",
    "    if len(tool_calls):\n",
    "        return \"tool\"\n",
    "    else:\n",
    "        return \"end\""
   ]
  },
  {
   "cell_type": "code",
   "execution_count": 46,
   "metadata": {},
   "outputs": [
    {
     "data": {
      "text/plain": [
       "<langgraph.graph.state.StateGraph at 0x24615ceac50>"
      ]
     },
     "execution_count": 46,
     "metadata": {},
     "output_type": "execute_result"
    }
   ],
   "source": [
    "graph = StateGraph(AgentState) ### StateGraph with AgentState\n",
    "\n",
    "graph.add_node(\"ai_assistant\", invoke_model)\n",
    "\n",
    "graph.add_node(\"tool\", invoke_tool)"
   ]
  },
  {
   "cell_type": "code",
   "execution_count": 47,
   "metadata": {},
   "outputs": [
    {
     "data": {
      "text/plain": [
       "<langgraph.graph.state.StateGraph at 0x24615ceac50>"
      ]
     },
     "execution_count": 47,
     "metadata": {},
     "output_type": "execute_result"
    }
   ],
   "source": [
    "graph.add_conditional_edges(\"ai_assistant\", router, {\"tool\": \"tool\",\"end\": END,})\n",
    "\n",
    "graph.add_edge(\"tool\", END)\n",
    "\n",
    "#graph.add_edge(\"tool\", \"ai_assistant\")\n",
    "\n",
    "graph.set_entry_point(\"ai_assistant\")"
   ]
  },
  {
   "cell_type": "code",
   "execution_count": 48,
   "metadata": {},
   "outputs": [],
   "source": [
    "app = graph.compile()"
   ]
  },
  {
   "cell_type": "code",
   "execution_count": 49,
   "metadata": {},
   "outputs": [
    {
     "data": {
      "image/png": "[encoded data removed]",
      "text/plain": [
       "<IPython.core.display.Image object>"
      ]
     },
     "metadata": {},
     "output_type": "display_data"
    }
   ],
   "source": [
    "from IPython.display import Image, display\n",
    "display(Image(app.get_graph().draw_mermaid_png()))"
   ]
  },
  {
   "cell_type": "code",
   "execution_count": 51,
   "metadata": {},
   "outputs": [
    {
     "name": "stdout",
     "output_type": "stream",
     "text": [
      "{'messages': [AIMessage(content='', additional_kwargs={'tool_calls': [{'id': 'call_cfe3', 'function': {'arguments': '{\"query\":\"Who is MPA of Umerkot?\"}', 'name': 'search'}, 'type': 'function'}]}, response_metadata={'token_usage': {'completion_tokens': 86, 'prompt_tokens': 1077, 'total_tokens': 1163, 'completion_time': 0.156363636, 'prompt_time': 0.043924606, 'queue_time': 0.023393909999999997, 'total_time': 0.200288242}, 'model_name': 'Gemma2-9b-It', 'system_fingerprint': 'fp_10c08bf97d', 'finish_reason': 'tool_calls', 'logprobs': None}, id='run-944498a4-895f-424c-a36e-b0b05da9e884-0', tool_calls=[{'name': 'search', 'args': {'query': 'Who is MPA of Umerkot?'}, 'id': 'call_cfe3', 'type': 'tool_call'}], usage_metadata={'input_tokens': 1077, 'output_tokens': 86, 'total_tokens': 1163})]}\n",
      "----\n",
      "Selected tool: search\n",
      "{'messages': [[{'url': 'https://www.pakinformation.com/mna-mpa/election2018/umerkot.html', 'content': 'MPA of Umerkot District General Election 2018 ... Syed Sardar Ali Shah , Tariq Ali , Syed Ali Mardan Shah / Syed Ameer Ali Shah and Muhammad Taimur Talpur are'}, {'url': 'https://www.pakinformation.com/mna-mpa/election2024/umerkot.html', 'content': 'MPA of Umerkot District General Election 2024 ... Syed Sardar Ali Shah, Syed Ameer Ali Shah and Muhammad Taimur Talpur are current member of Sindh provincial'}, {'url': 'https://pppp.org.pk/website/sindh-assembly-members/', 'content': 'Sindh Assembly Members ; Muhammad Taimur Talpur, PS 51 Umerkot-III ; Muhammad Yousuf, PS-107 Karachi South-II ; Muhammad Yousuf Baloch, PS-84 Malir-I ; Mujeeb Ul'}, {'url': 'https://en.wikipedia.org/wiki/NA-213_Umerkot', 'content': \"NA-213 Umerkot ; 589,350 · Pakistan People's Party · Nawab Yousuf Talpur.\"}, {'url': 'http://www.pas.gov.pk/index.php/members/profile/en/32/759', 'content': 'Member Profile ; Syed Ameer Ali Shah. PS-52 Umerkot-II ; Academic Qualifications, Graduate : University of Sindh ; Profession(s), Landlord ; Party Affiliation'}]]}\n",
      "----\n"
     ]
    }
   ],
   "source": [
    "for s in app.stream({\"messages\": [\"who is  MPA of  umerkot?\"]}):\n",
    "    print(list(s.values())[0])\n",
    "    print(\"----\")"
   ]
  },
  {
   "cell_type": "code",
   "execution_count": 52,
   "metadata": {},
   "outputs": [
    {
     "name": "stdout",
     "output_type": "stream",
     "text": [
      "{'messages': [AIMessage(content='', additional_kwargs={'tool_calls': [{'id': 'call_z702', 'function': {'arguments': '{\"first_number\":23,\"second_number\":46}', 'name': 'multiply'}, 'type': 'function'}]}, response_metadata={'token_usage': {'completion_tokens': 93, 'prompt_tokens': 1080, 'total_tokens': 1173, 'completion_time': 0.169090909, 'prompt_time': 0.05998929, 'queue_time': 0.023610933, 'total_time': 0.229080199}, 'model_name': 'Gemma2-9b-It', 'system_fingerprint': 'fp_10c08bf97d', 'finish_reason': 'tool_calls', 'logprobs': None}, id='run-f4e5ad6c-7e09-46b2-89fa-bb590a2dd916-0', tool_calls=[{'name': 'multiply', 'args': {'first_number': 23, 'second_number': 46}, 'id': 'call_z702', 'type': 'tool_call'}], usage_metadata={'input_tokens': 1080, 'output_tokens': 93, 'total_tokens': 1173})]}\n",
      "----\n",
      "Selected tool: multiply\n",
      "{'messages': [1058]}\n",
      "----\n"
     ]
    }
   ],
   "source": [
    "for s in app.stream({\"messages\": [\"what is multiplication of 23 and 46?\"]}):\n",
    "    print(list(s.values())[0])\n",
    "    print(\"----\")"
   ]
  },
  {
   "cell_type": "code",
   "execution_count": 53,
   "metadata": {},
   "outputs": [
    {
     "name": "stdout",
     "output_type": "stream",
     "text": [
      "{'messages': [AIMessage(content='', additional_kwargs={'tool_calls': [{'id': 'call_6nkz', 'function': {'arguments': '{\"query\":\"total amount of money exist over the earth\"}', 'name': 'search'}, 'type': 'function'}]}, response_metadata={'token_usage': {'completion_tokens': 87, 'prompt_tokens': 1080, 'total_tokens': 1167, 'completion_time': 0.158181818, 'prompt_time': 0.044051584, 'queue_time': 0.024524529999999996, 'total_time': 0.202233402}, 'model_name': 'Gemma2-9b-It', 'system_fingerprint': 'fp_10c08bf97d', 'finish_reason': 'tool_calls', 'logprobs': None}, id='run-753619b0-5827-44a2-b087-1e746be753d6-0', tool_calls=[{'name': 'search', 'args': {'query': 'total amount of money exist over the earth'}, 'id': 'call_6nkz', 'type': 'tool_call'}], usage_metadata={'input_tokens': 1080, 'output_tokens': 87, 'total_tokens': 1167})]}\n",
      "----\n",
      "Selected tool: search\n",
      "{'messages': [[{'url': 'https://www.quora.com/How-much-money-is-in-the-world', 'content': 'The total amount of money in the world, often referred to as global wealth, was approximately USD 463 trillion as of 2023. This figure represents the total net'}, {'url': 'https://www.under30ceo.com/how-much-money-is-there-in-the-world/', 'content': 'The total amount of money in the world is estimated to be around $80 trillion. · Different types of money supply, like M0, M1, M2, and M3, help'}, {'url': 'https://www.moneydigest.com/1486588/how-much-money-exists-world/', 'content': 'Banking Credit Cards Budgeting Investing Taxes Shopping History Features If we expand our definition of money to include not only bills and coins, but the balances held in checking and savings accounts, traveler\\'s checks, and other highly liquid (i.e., easily convertible to cash) assets as well, we arrive at what\\'s called the \"M1 money supply.\" Per Visual Capitalist, the global M1 money supply stands at $48.9 trillion as of late November 2022. If you\\'re wondering about the money supply of U.S. dollars only, the Federal Reserve Bank of St. Louis tells us that as of November 2023, the Monetary Base (aka \"M0\"), made up of cash and coins only, is $5.7 trillion, while M1 is $18 trillion, and M2 stands at $20.8 trillion.'}, {'url': 'https://money.visualcapitalist.com/much-money-humans-created/', 'content': \"The total of the world's physical currency – all coins and bills denominated in dollars, euros, yen, and other currencies – is about $5 trillion\"}, {'url': 'https://money.howstuffworks.com/how-much-money-is-in-the-world.htm', 'content': 'Anyone looking for all the US dollars in the world in December 2022 could expect to find approximately $21.2 trillion in existence, using the M2 money supply'}]]}\n",
      "----\n"
     ]
    }
   ],
   "source": [
    "for s in app.stream({\"messages\": [\"what is the total amount of money exist over the earth?\"]}):\n",
    "    print(list(s.values())[0])\n",
    "    print(\"----\")"
   ]
  },
  {
   "cell_type": "markdown",
   "metadata": {},
   "source": [
    "#### **LangGraph supports human-in-the-loop workflows in a number of ways. In this section, we will use LangGraph's interrupt_before functionality to always break the tool node.**"
   ]
  },
  {
   "cell_type": "code",
   "execution_count": 54,
   "metadata": {},
   "outputs": [],
   "source": [
    "from langchain_groq import ChatGroq\n",
    "llm=ChatGroq(model_name=\"Gemma2-9b-It\")"
   ]
  },
  {
   "cell_type": "code",
   "execution_count": null,
   "metadata": {},
   "outputs": [],
   "source": [
    "class AgentState(TypedDict):\n",
    "    messages: Annotated[list, add_messages]"
   ]
  },
  {
   "cell_type": "code",
   "execution_count": 55,
   "metadata": {},
   "outputs": [],
   "source": [
    "tavily=TavilySearchResults()"
   ]
  },
  {
   "cell_type": "code",
   "execution_count": 56,
   "metadata": {},
   "outputs": [],
   "source": [
    "tools = [tavily]"
   ]
  },
  {
   "cell_type": "code",
   "execution_count": 57,
   "metadata": {},
   "outputs": [],
   "source": [
    "llm_with_tools = llm.bind_tools(tools)"
   ]
  },
  {
   "cell_type": "code",
   "execution_count": 58,
   "metadata": {},
   "outputs": [],
   "source": [
    "def ai_assistant(state: AgentState):\n",
    "    return {\"messages\": [llm_with_tools.invoke(state[\"messages\"])]}"
   ]
  },
  {
   "cell_type": "code",
   "execution_count": 59,
   "metadata": {},
   "outputs": [],
   "source": [
    "memory = MemorySaver()"
   ]
  },
  {
   "cell_type": "code",
   "execution_count": 60,
   "metadata": {},
   "outputs": [
    {
     "data": {
      "text/plain": [
       "<langgraph.graph.state.StateGraph at 0x24615d7dba0>"
      ]
     },
     "execution_count": 60,
     "metadata": {},
     "output_type": "execute_result"
    }
   ],
   "source": [
    "graph_builder = StateGraph(AgentState)\n",
    "graph_builder.add_node(\"ai_assistant\", ai_assistant)\n",
    "\n",
    "tool_node = ToolNode(tools=tools)\n",
    "graph_builder.add_node(\"tools\", tool_node)"
   ]
  },
  {
   "cell_type": "code",
   "execution_count": 61,
   "metadata": {},
   "outputs": [
    {
     "data": {
      "text/plain": [
       "<langgraph.graph.state.StateGraph at 0x24615d7dba0>"
      ]
     },
     "execution_count": 61,
     "metadata": {},
     "output_type": "execute_result"
    }
   ],
   "source": [
    "graph_builder.add_edge(START, \"ai_assistant\")\n",
    "\n",
    "graph_builder.add_conditional_edges(\n",
    "    \"ai_assistant\",\n",
    "    tools_condition,\n",
    ")\n",
    "graph_builder.add_edge(\"tools\", \"ai_assistant\")"
   ]
  },
  {
   "cell_type": "code",
   "execution_count": 62,
   "metadata": {},
   "outputs": [],
   "source": [
    "app2 = graph_builder.compile(\n",
    "    checkpointer=memory,\n",
    "    # This is new!\n",
    "    interrupt_before=[\"tools\"],\n",
    "    # Note: can also interrupt __after__ tools, if desired.\n",
    "    # interrupt_after=[\"tools\"]\n",
    ")"
   ]
  },
  {
   "cell_type": "code",
   "execution_count": 63,
   "metadata": {},
   "outputs": [
    {
     "data": {
      "image/png": "[encoded data removed]",
      "text/plain": [
       "<IPython.core.display.Image object>"
      ]
     },
     "metadata": {},
     "output_type": "display_data"
    }
   ],
   "source": [
    "from IPython.display import Image, display\n",
    "display(Image(app2.get_graph().draw_mermaid_png()))"
   ]
  },
  {
   "cell_type": "code",
   "execution_count": 64,
   "metadata": {},
   "outputs": [],
   "source": [
    "user_input = \"what is current a capital of umerkot?\"\n",
    "config = {\"configurable\": {\"thread_id\": \"1\"}}"
   ]
  },
  {
   "cell_type": "code",
   "execution_count": 65,
   "metadata": {},
   "outputs": [],
   "source": [
    "# The config is the **second positional argument** to stream() or invoke()!\n",
    "events = app2.stream(\n",
    "    {\"messages\": [(\"user\", user_input)]}, config, stream_mode=\"values\"\n",
    ")"
   ]
  },
  {
   "cell_type": "code",
   "execution_count": 67,
   "metadata": {},
   "outputs": [
    {
     "name": "stdout",
     "output_type": "stream",
     "text": [
      "==================================\u001b[1m Ai Message \u001b[0m==================================\n",
      "Tool Calls:\n",
      "  tavily_search_results_json (call_8s8f)\n",
      " Call ID: call_8s8f\n",
      "  Args:\n",
      "    query: capital of umerkot\n"
     ]
    }
   ],
   "source": [
    "for event in events:\n",
    "    if \"messages\" in event:\n",
    "        event[\"messages\"][-1].pretty_print()"
   ]
  },
  {
   "cell_type": "code",
   "execution_count": 68,
   "metadata": {},
   "outputs": [],
   "source": [
    "snapshot = app2.get_state(config)"
   ]
  },
  {
   "cell_type": "code",
   "execution_count": 69,
   "metadata": {},
   "outputs": [
    {
     "data": {
      "text/plain": [
       "('tools',)"
      ]
     },
     "execution_count": 69,
     "metadata": {},
     "output_type": "execute_result"
    }
   ],
   "source": [
    "snapshot.next"
   ]
  },
  {
   "cell_type": "code",
   "execution_count": 70,
   "metadata": {},
   "outputs": [],
   "source": [
    "last_message=snapshot.values[\"messages\"][-1]"
   ]
  },
  {
   "cell_type": "code",
   "execution_count": 71,
   "metadata": {},
   "outputs": [
    {
     "data": {
      "text/plain": [
       "[{'name': 'tavily_search_results_json',\n",
       "  'args': {'query': 'capital of umerkot'},\n",
       "  'id': 'call_8s8f',\n",
       "  'type': 'tool_call'}]"
      ]
     },
     "execution_count": 71,
     "metadata": {},
     "output_type": "execute_result"
    }
   ],
   "source": [
    "last_message.tool_calls"
   ]
  },
  {
   "cell_type": "code",
   "execution_count": 72,
   "metadata": {},
   "outputs": [],
   "source": [
    "# `None` will append nothing new to the current state, letting it resume as if it had never been interrupted\n",
    "events = app2.stream(None, config, stream_mode=\"values\")"
   ]
  },
  {
   "cell_type": "code",
   "execution_count": 73,
   "metadata": {},
   "outputs": [
    {
     "name": "stdout",
     "output_type": "stream",
     "text": [
      "==================================\u001b[1m Ai Message \u001b[0m==================================\n",
      "Tool Calls:\n",
      "  tavily_search_results_json (call_8s8f)\n",
      " Call ID: call_8s8f\n",
      "  Args:\n",
      "    query: capital of umerkot\n",
      "=================================\u001b[1m Tool Message \u001b[0m=================================\n",
      "Name: tavily_search_results_json\n",
      "\n",
      "[{\"url\": \"https://www.youtube.com/watch?v=ONb1c2BfxfE\", \"content\": \"Umerkot District also known as Amarkot District, is a district in the Sindh province of Pakistan. The city of Umerkot is the capital of the\"}, {\"url\": \"https://www.rspn.org/wp-content/uploads/2013/12/tahafuz-cause-study-kaplor.pdf\", \"content\": \"Umerkot is one of the oldest cities of Sindh and has much to offer in terms of history, culture and glory. It was once the capital of Greater Sindh Province\"}, {\"url\": \"https://reliefweb.int/report/pakistan/pakistan-emergency-situational-analysis-district-umerkot-june-2014\", \"content\": \"Formerly known as Amarkot, it was the capital of Greater Sindh Province, including some parts of present day's Rajasthan state of India.\"}, {\"url\": \"https://pakistanalmanac.com/sindh-umerkot/\", \"content\": \"Umerkot is now the official name of the town as well as the district. Umerkot was, at one point, the capital[2] of the Greater Sindh Province (including some\"}, {\"url\": \"https://www.wikidata.org/wiki/Q2625910\", \"content\": \"Umerkot. city in Sindh, Pakistan. Umarkot; Amarkot. In more languages. Spanish. No label ... century. 0 references. capital of · Umerkot District · start time.\"}]\n",
      "==================================\u001b[1m Ai Message \u001b[0m==================================\n",
      "\n",
      "The capital of Umerkot is Umerkot.\n"
     ]
    }
   ],
   "source": [
    "for event in events:\n",
    "    if \"messages\" in event:\n",
    "        event[\"messages\"][-1].pretty_print()"
   ]
  },
  {
   "cell_type": "code",
   "execution_count": 74,
   "metadata": {},
   "outputs": [],
   "source": [
    "user_input = \"what is a weather there?\"\n",
    "\n",
    "config = {\"configurable\": {\"thread_id\": \"1\"}}"
   ]
  },
  {
   "cell_type": "code",
   "execution_count": 75,
   "metadata": {},
   "outputs": [],
   "source": [
    "# The config is the **second positional argument** to stream() or invoke()!\n",
    "events = app2.stream(\n",
    "    {\"messages\": [(\"user\", user_input)]}, config, stream_mode=\"values\"\n",
    ")"
   ]
  },
  {
   "cell_type": "code",
   "execution_count": 77,
   "metadata": {},
   "outputs": [
    {
     "name": "stdout",
     "output_type": "stream",
     "text": [
      "==================================\u001b[1m Ai Message \u001b[0m==================================\n",
      "Tool Calls:\n",
      "  tavily_search_results_json (call_r3ay)\n",
      " Call ID: call_r3ay\n",
      "  Args:\n",
      "    query: weather in Umerkot Pakistan\n"
     ]
    }
   ],
   "source": [
    "for event in events:\n",
    "    if \"messages\" in event:\n",
    "        event[\"messages\"][-1].pretty_print()"
   ]
  },
  {
   "cell_type": "code",
   "execution_count": 79,
   "metadata": {},
   "outputs": [],
   "source": [
    "snapshot = app2.get_state(config)"
   ]
  },
  {
   "cell_type": "code",
   "execution_count": 80,
   "metadata": {},
   "outputs": [
    {
     "data": {
      "text/plain": [
       "('tools',)"
      ]
     },
     "execution_count": 80,
     "metadata": {},
     "output_type": "execute_result"
    }
   ],
   "source": [
    "snapshot.next"
   ]
  },
  {
   "cell_type": "code",
   "execution_count": 81,
   "metadata": {},
   "outputs": [],
   "source": [
    "last_message=snapshot.values[\"messages\"][-1]"
   ]
  },
  {
   "cell_type": "code",
   "execution_count": 82,
   "metadata": {},
   "outputs": [
    {
     "data": {
      "text/plain": [
       "[{'name': 'tavily_search_results_json',\n",
       "  'args': {'query': 'weather in Umerkot Pakistan'},\n",
       "  'id': 'call_r3ay',\n",
       "  'type': 'tool_call'}]"
      ]
     },
     "execution_count": 82,
     "metadata": {},
     "output_type": "execute_result"
    }
   ],
   "source": [
    "last_message.tool_calls"
   ]
  },
  {
   "cell_type": "code",
   "execution_count": 83,
   "metadata": {},
   "outputs": [],
   "source": [
    "# `None` will append nothing new to the current state, letting it resume as if it had never been interrupted\n",
    "events = app2.stream(None, config, stream_mode=\"values\")"
   ]
  },
  {
   "cell_type": "code",
   "execution_count": 84,
   "metadata": {},
   "outputs": [
    {
     "name": "stdout",
     "output_type": "stream",
     "text": [
      "==================================\u001b[1m Ai Message \u001b[0m==================================\n",
      "Tool Calls:\n",
      "  tavily_search_results_json (call_r3ay)\n",
      " Call ID: call_r3ay\n",
      "  Args:\n",
      "    query: weather in Umerkot Pakistan\n",
      "=================================\u001b[1m Tool Message \u001b[0m=================================\n",
      "Name: tavily_search_results_json\n",
      "\n",
      "[{\"url\": \"https://www.weatherapi.com/\", \"content\": \"{'location': {'name': 'Umerkot', 'region': 'Punjab', 'country': 'Pakistan', 'lat': 28.4931, 'lon': 70.0972, 'tz_id': 'Asia/Karachi', 'localtime_epoch': 1739163150, 'localtime': '2025-02-10 09:52'}, 'current': {'last_updated_epoch': 1739162700, 'last_updated': '2025-02-10 09:45', 'temp_c': 22.1, 'temp_f': 71.8, 'is_day': 1, 'condition': {'text': 'Sunny', 'icon': '//cdn.weatherapi.com/weather/64x64/day/113.png', 'code': 1000}, 'wind_mph': 3.4, 'wind_kph': 5.4, 'wind_degree': 94, 'wind_dir': 'E', 'pressure_mb': 1015.0, 'pressure_in': 29.98, 'precip_mm': 0.0, 'precip_in': 0.0, 'humidity': 11, 'cloud': 12, 'feelslike_c': 22.1, 'feelslike_f': 71.9, 'windchill_c': 22.1, 'windchill_f': 71.8, 'heatindex_c': 22.1, 'heatindex_f': 71.9, 'dewpoint_c': -9.3, 'dewpoint_f': 15.4, 'vis_km': 10.0, 'vis_miles': 6.0, 'uv': 1.4, 'gust_mph': 4.6, 'gust_kph': 7.3}}\"}, {\"url\": \"https://www.weathercity.com/pk/sd/umarkot/\", \"content\": \"Sunny. Afternoon, Temperature: 27°C. Cloudy. Evening, Temperature: 21°C. Cloudy. Monday, February 10th, 2025. Overnight, Temperature: 20°C. Cloudy. Morning\"}, {\"url\": \"https://tripvenue.com/pogoda/pakistan/l1162959/umarkot/february\", \"content\": \"February weather forecast for Umarkot, Pakistan. Average temperature in February is 23.8 °C. Average daytime temperature is 32.8 °C.\"}, {\"url\": \"https://freemeteo.pk/weather/umerkot/longterm/monthly/?gid=1355025&mn=2&language=english&country=pakistan\", \"content\": \"Thunderstorms are unlikely to occur in this period since they are observed once every 3 years on average. Fog may occur. February 2025 : Statistically expected\"}, {\"url\": \"https://www.predictwind.com/weather/pakistan/punjab/umerkot/february\", \"content\": \"This data is based on historical weather data for Umerkot, Pakistan for the month of february 2025.\"}]\n",
      "==================================\u001b[1m Ai Message \u001b[0m==================================\n",
      "\n",
      "It is sunny in Umerkot with a temperature of 22.1°C.\n"
     ]
    }
   ],
   "source": [
    "for event in events:\n",
    "    if \"messages\" in event:\n",
    "        event[\"messages\"][-1].pretty_print()"
   ]
  },
  {
   "cell_type": "code",
   "execution_count": 85,
   "metadata": {},
   "outputs": [
    {
     "data": {
      "text/plain": [
       "StateSnapshot(values={'messages': [['user', 'what is current a capital of umerkot?'], AIMessage(content='', additional_kwargs={'tool_calls': [{'id': 'call_8s8f', 'function': {'arguments': '{\"query\":\"capital of umerkot\"}', 'name': 'tavily_search_results_json'}, 'type': 'function'}]}, response_metadata={'token_usage': {'completion_tokens': 91, 'prompt_tokens': 991, 'total_tokens': 1082, 'completion_time': 0.165454545, 'prompt_time': 0.031870229, 'queue_time': 0.023102539, 'total_time': 0.197324774}, 'model_name': 'Gemma2-9b-It', 'system_fingerprint': 'fp_10c08bf97d', 'finish_reason': 'tool_calls', 'logprobs': None}, id='run-019e1619-964c-4e63-96a0-8a1124d03411-0', tool_calls=[{'name': 'tavily_search_results_json', 'args': {'query': 'capital of umerkot'}, 'id': 'call_8s8f', 'type': 'tool_call'}], usage_metadata={'input_tokens': 991, 'output_tokens': 91, 'total_tokens': 1082}), ToolMessage(content='[{\"url\": \"https://www.youtube.com/watch?v=ONb1c2BfxfE\", \"content\": \"Umerkot District also known as Amarkot District, is a district in the Sindh province of Pakistan. The city of Umerkot is the capital of the\"}, {\"url\": \"https://www.rspn.org/wp-content/uploads/2013/12/tahafuz-cause-study-kaplor.pdf\", \"content\": \"Umerkot is one of the oldest cities of Sindh and has much to offer in terms of history, culture and glory. It was once the capital of Greater Sindh Province\"}, {\"url\": \"https://reliefweb.int/report/pakistan/pakistan-emergency-situational-analysis-district-umerkot-june-2014\", \"content\": \"Formerly known as Amarkot, it was the capital of Greater Sindh Province, including some parts of present day\\'s Rajasthan state of India.\"}, {\"url\": \"https://pakistanalmanac.com/sindh-umerkot/\", \"content\": \"Umerkot is now the official name of the town as well as the district. Umerkot was, at one point, the capital[2] of the Greater Sindh Province (including some\"}, {\"url\": \"https://www.wikidata.org/wiki/Q2625910\", \"content\": \"Umerkot. city in Sindh, Pakistan. Umarkot; Amarkot. In more languages. Spanish. No label ... century. 0 references. capital of · Umerkot District · start time.\"}]', name='tavily_search_results_json', tool_call_id='call_8s8f', artifact={'query': 'capital of umerkot', 'follow_up_questions': None, 'answer': None, 'images': [], 'results': [{'url': 'https://www.youtube.com/watch?v=ONb1c2BfxfE', 'title': 'A City Where Mughal Emperor Akbar was Born - YouTube', 'content': 'Umerkot District also known as Amarkot District, is a district in the Sindh province of Pakistan. The city of Umerkot is the capital of the', 'score': 0.82694983, 'raw_content': None}, {'url': 'https://www.rspn.org/wp-content/uploads/2013/12/tahafuz-cause-study-kaplor.pdf', 'title': '[PDF] Insight of Umerkot', 'content': 'Umerkot is one of the oldest cities of Sindh and has much to offer in terms of history, culture and glory. It was once the capital of Greater Sindh Province', 'score': 0.826278, 'raw_content': None}, {'url': 'https://reliefweb.int/report/pakistan/pakistan-emergency-situational-analysis-district-umerkot-june-2014', 'title': 'Pakistan Emergency Situational Analysis - District Umerkot, June 2014', 'content': \"Formerly known as Amarkot, it was the capital of Greater Sindh Province, including some parts of present day's Rajasthan state of India.\", 'score': 0.82492816, 'raw_content': None}, {'url': 'https://pakistanalmanac.com/sindh-umerkot/', 'title': 'Sindh-Umerkot - - Pakistan Almanac', 'content': 'Umerkot is now the official name of the town as well as the district. Umerkot was, at one point, the capital[2] of the Greater Sindh Province (including some', 'score': 0.8106142, 'raw_content': None}, {'url': 'https://www.wikidata.org/wiki/Q2625910', 'title': 'Umerkot - Wikidata', 'content': 'Umerkot. city in Sindh, Pakistan. Umarkot; Amarkot. In more languages. Spanish. No label ... century. 0 references. capital of · Umerkot District · start time.', 'score': 0.8091708, 'raw_content': None}], 'response_time': 1.07}), AIMessage(content='The capital of Umerkot is Umerkot. \\n', additional_kwargs={}, response_metadata={'token_usage': {'completion_tokens': 15, 'prompt_tokens': 1424, 'total_tokens': 1439, 'completion_time': 0.027272727, 'prompt_time': 0.050985437, 'queue_time': 0.024278406999999995, 'total_time': 0.078258164}, 'model_name': 'Gemma2-9b-It', 'system_fingerprint': 'fp_10c08bf97d', 'finish_reason': 'stop', 'logprobs': None}, id='run-3325c0a4-d4ac-4785-b9bb-aeec4f58fdaf-0', usage_metadata={'input_tokens': 1424, 'output_tokens': 15, 'total_tokens': 1439}), ['user', 'what is a weather there?'], AIMessage(content='', additional_kwargs={'tool_calls': [{'id': 'call_r3ay', 'function': {'arguments': '{\"query\":\"weather in Umerkot Pakistan\"}', 'name': 'tavily_search_results_json'}, 'type': 'function'}]}, response_metadata={'token_usage': {'completion_tokens': 56, 'prompt_tokens': 1453, 'total_tokens': 1509, 'completion_time': 0.101818182, 'prompt_time': 0.060354946, 'queue_time': 0.025226585000000003, 'total_time': 0.162173128}, 'model_name': 'Gemma2-9b-It', 'system_fingerprint': 'fp_10c08bf97d', 'finish_reason': 'tool_calls', 'logprobs': None}, id='run-3ab12b9e-2ffb-4469-9c56-458c8b7c6717-0', tool_calls=[{'name': 'tavily_search_results_json', 'args': {'query': 'weather in Umerkot Pakistan'}, 'id': 'call_r3ay', 'type': 'tool_call'}], usage_metadata={'input_tokens': 1453, 'output_tokens': 56, 'total_tokens': 1509}), ToolMessage(content='[{\"url\": \"https://www.weatherapi.com/\", \"content\": \"{\\'location\\': {\\'name\\': \\'Umerkot\\', \\'region\\': \\'Punjab\\', \\'country\\': \\'Pakistan\\', \\'lat\\': 28.4931, \\'lon\\': 70.0972, \\'tz_id\\': \\'Asia/Karachi\\', \\'localtime_epoch\\': 1739163150, \\'localtime\\': \\'2025-02-10 09:52\\'}, \\'current\\': {\\'last_updated_epoch\\': 1739162700, \\'last_updated\\': \\'2025-02-10 09:45\\', \\'temp_c\\': 22.1, \\'temp_f\\': 71.8, \\'is_day\\': 1, \\'condition\\': {\\'text\\': \\'Sunny\\', \\'icon\\': \\'//cdn.weatherapi.com/weather/64x64/day/113.png\\', \\'code\\': 1000}, \\'wind_mph\\': 3.4, \\'wind_kph\\': 5.4, \\'wind_degree\\': 94, \\'wind_dir\\': \\'E\\', \\'pressure_mb\\': 1015.0, \\'pressure_in\\': 29.98, \\'precip_mm\\': 0.0, \\'precip_in\\': 0.0, \\'humidity\\': 11, \\'cloud\\': 12, \\'feelslike_c\\': 22.1, \\'feelslike_f\\': 71.9, \\'windchill_c\\': 22.1, \\'windchill_f\\': 71.8, \\'heatindex_c\\': 22.1, \\'heatindex_f\\': 71.9, \\'dewpoint_c\\': -9.3, \\'dewpoint_f\\': 15.4, \\'vis_km\\': 10.0, \\'vis_miles\\': 6.0, \\'uv\\': 1.4, \\'gust_mph\\': 4.6, \\'gust_kph\\': 7.3}}\"}, {\"url\": \"https://www.weathercity.com/pk/sd/umarkot/\", \"content\": \"Sunny. Afternoon, Temperature: 27°C. Cloudy. Evening, Temperature: 21°C. Cloudy. Monday, February 10th, 2025. Overnight, Temperature: 20°C. Cloudy. Morning\"}, {\"url\": \"https://tripvenue.com/pogoda/pakistan/l1162959/umarkot/february\", \"content\": \"February weather forecast for Umarkot, Pakistan. Average temperature in February is 23.8 °C. Average daytime temperature is 32.8 °C.\"}, {\"url\": \"https://freemeteo.pk/weather/umerkot/longterm/monthly/?gid=1355025&mn=2&language=english&country=pakistan\", \"content\": \"Thunderstorms are unlikely to occur in this period since they are observed once every 3 years on average. Fog may occur. February 2025 : Statistically expected\"}, {\"url\": \"https://www.predictwind.com/weather/pakistan/punjab/umerkot/february\", \"content\": \"This data is based on historical weather data for Umerkot, Pakistan for the month of february 2025.\"}]', name='tavily_search_results_json', tool_call_id='call_r3ay', artifact={'query': 'weather in Umerkot Pakistan', 'follow_up_questions': None, 'answer': None, 'images': [], 'results': [{'title': 'Weather in Umerkot, Pakistan', 'url': 'https://www.weatherapi.com/', 'content': \"{'location': {'name': 'Umerkot', 'region': 'Punjab', 'country': 'Pakistan', 'lat': 28.4931, 'lon': 70.0972, 'tz_id': 'Asia/Karachi', 'localtime_epoch': 1739163150, 'localtime': '2025-02-10 09:52'}, 'current': {'last_updated_epoch': 1739162700, 'last_updated': '2025-02-10 09:45', 'temp_c': 22.1, 'temp_f': 71.8, 'is_day': 1, 'condition': {'text': 'Sunny', 'icon': '//cdn.weatherapi.com/weather/64x64/day/113.png', 'code': 1000}, 'wind_mph': 3.4, 'wind_kph': 5.4, 'wind_degree': 94, 'wind_dir': 'E', 'pressure_mb': 1015.0, 'pressure_in': 29.98, 'precip_mm': 0.0, 'precip_in': 0.0, 'humidity': 11, 'cloud': 12, 'feelslike_c': 22.1, 'feelslike_f': 71.9, 'windchill_c': 22.1, 'windchill_f': 71.8, 'heatindex_c': 22.1, 'heatindex_f': 71.9, 'dewpoint_c': -9.3, 'dewpoint_f': 15.4, 'vis_km': 10.0, 'vis_miles': 6.0, 'uv': 1.4, 'gust_mph': 4.6, 'gust_kph': 7.3}}\", 'score': 0.987953, 'raw_content': None}, {'url': 'https://www.weathercity.com/pk/sd/umarkot/', 'title': 'Weather Report for Umarkot, Sindh, Pakistan', 'content': 'Sunny. Afternoon, Temperature: 27°C. Cloudy. Evening, Temperature: 21°C. Cloudy. Monday, February 10th, 2025. Overnight, Temperature: 20°C. Cloudy. Morning', 'score': 0.942002, 'raw_content': None}, {'url': 'https://tripvenue.com/pogoda/pakistan/l1162959/umarkot/february', 'title': 'Weather in Umarkot in February 2025 - Tripvenue', 'content': 'February weather forecast for Umarkot, Pakistan. Average temperature in February is 23.8 °C. Average daytime temperature is 32.8 °C.', 'score': 0.92359936, 'raw_content': None}, {'url': 'https://freemeteo.pk/weather/umerkot/longterm/monthly/?gid=1355025&mn=2&language=english&country=pakistan', 'title': 'Weather Umerkot - Long term weather forecast - freemeteo.pk', 'content': 'Thunderstorms are unlikely to occur in this period since they are observed once every 3 years on average. Fog may occur. February 2025 : Statistically expected', 'score': 0.82994765, 'raw_content': None}, {'url': 'https://www.predictwind.com/weather/pakistan/punjab/umerkot/february', 'title': 'Average temperature, wind and rain in Umerkot, Pakistan for february', 'content': 'This data is based on historical weather data for Umerkot, Pakistan for the month of february 2025.', 'score': 0.78214747, 'raw_content': None}], 'response_time': 3.29}), AIMessage(content='It is sunny in Umerkot with a temperature of 22.1°C. \\n', additional_kwargs={}, response_metadata={'token_usage': {'completion_tokens': 23, 'prompt_tokens': 2303, 'total_tokens': 2326, 'completion_time': 0.041818182, 'prompt_time': 0.074377483, 'queue_time': 0.027163296000000003, 'total_time': 0.116195665}, 'model_name': 'Gemma2-9b-It', 'system_fingerprint': 'fp_10c08bf97d', 'finish_reason': 'stop', 'logprobs': None}, id='run-132d5abf-4c8b-4938-8208-8ce79e80cc01-0', usage_metadata={'input_tokens': 2303, 'output_tokens': 23, 'total_tokens': 2326})]}, next=(), config={'configurable': {'thread_id': '1', 'checkpoint_ns': '', 'checkpoint_id': '1efe76be-a057-629f-8008-b21ef6e5b59a'}}, metadata={'source': 'loop', 'writes': {'ai_assistant': {'messages': [AIMessage(content='It is sunny in Umerkot with a temperature of 22.1°C. \\n', additional_kwargs={}, response_metadata={'token_usage': {'completion_tokens': 23, 'prompt_tokens': 2303, 'total_tokens': 2326, 'completion_time': 0.041818182, 'prompt_time': 0.074377483, 'queue_time': 0.027163296000000003, 'total_time': 0.116195665}, 'model_name': 'Gemma2-9b-It', 'system_fingerprint': 'fp_10c08bf97d', 'finish_reason': 'stop', 'logprobs': None}, id='run-132d5abf-4c8b-4938-8208-8ce79e80cc01-0', usage_metadata={'input_tokens': 2303, 'output_tokens': 23, 'total_tokens': 2326})]}}, 'thread_id': '1', 'step': 8, 'parents': {}}, created_at='2025-02-10T05:00:14.551721+00:00', parent_config={'configurable': {'thread_id': '1', 'checkpoint_ns': '', 'checkpoint_id': '1efe76be-8ea8-667f-8007-cbd8418f0588'}}, tasks=())"
      ]
     },
     "execution_count": 85,
     "metadata": {},
     "output_type": "execute_result"
    }
   ],
   "source": [
    "app2.get_state(config)"
   ]
  },
  {
   "cell_type": "code",
   "execution_count": 86,
   "metadata": {},
   "outputs": [],
   "source": [
    "snapshot=app2.get_state(config)"
   ]
  },
  {
   "cell_type": "code",
   "execution_count": 87,
   "metadata": {},
   "outputs": [
    {
     "data": {
      "text/plain": [
       "()"
      ]
     },
     "execution_count": 87,
     "metadata": {},
     "output_type": "execute_result"
    }
   ],
   "source": [
    "snapshot.next"
   ]
  },
  {
   "cell_type": "code",
   "execution_count": 88,
   "metadata": {},
   "outputs": [],
   "source": [
    "user_input = \"give me the recent news of it?\"\n",
    "\n",
    "config = {\"configurable\": {\"thread_id\": \"1\"}}"
   ]
  },
  {
   "cell_type": "code",
   "execution_count": 89,
   "metadata": {},
   "outputs": [],
   "source": [
    "# The config is the **second positional argument** to stream() or invoke()!\n",
    "events = app2.stream(\n",
    "    {\"messages\": [(\"user\", user_input)]}, config, stream_mode=\"values\"\n",
    ")"
   ]
  },
  {
   "cell_type": "code",
   "execution_count": 91,
   "metadata": {},
   "outputs": [
    {
     "name": "stdout",
     "output_type": "stream",
     "text": [
      "==================================\u001b[1m Ai Message \u001b[0m==================================\n",
      "Tool Calls:\n",
      "  tavily_search_results_json (call_5fdz)\n",
      " Call ID: call_5fdz\n",
      "  Args:\n",
      "    query: recent news Umerkot Pakistan\n"
     ]
    }
   ],
   "source": [
    "for event in events:\n",
    "    if \"messages\" in event:\n",
    "        event[\"messages\"][-1].pretty_print()"
   ]
  },
  {
   "cell_type": "code",
   "execution_count": 92,
   "metadata": {},
   "outputs": [],
   "source": [
    "snapshot=app2.get_state(config)"
   ]
  },
  {
   "cell_type": "code",
   "execution_count": 93,
   "metadata": {},
   "outputs": [],
   "source": [
    "current_message = snapshot.values[\"messages\"][-1]"
   ]
  },
  {
   "cell_type": "code",
   "execution_count": 94,
   "metadata": {},
   "outputs": [
    {
     "name": "stdout",
     "output_type": "stream",
     "text": [
      "==================================\u001b[1m Ai Message \u001b[0m==================================\n",
      "Tool Calls:\n",
      "  tavily_search_results_json (call_5fdz)\n",
      " Call ID: call_5fdz\n",
      "  Args:\n",
      "    query: recent news Umerkot Pakistan\n"
     ]
    }
   ],
   "source": [
    "current_message.pretty_print()"
   ]
  },
  {
   "cell_type": "code",
   "execution_count": 95,
   "metadata": {},
   "outputs": [],
   "source": [
    "tool_call_id = current_message.tool_calls[0][\"id\"] "
   ]
  },
  {
   "cell_type": "code",
   "execution_count": 96,
   "metadata": {},
   "outputs": [
    {
     "data": {
      "text/plain": [
       "'call_5fdz'"
      ]
     },
     "execution_count": 96,
     "metadata": {},
     "output_type": "execute_result"
    }
   ],
   "source": [
    "tool_call_id"
   ]
  },
  {
   "cell_type": "code",
   "execution_count": 97,
   "metadata": {},
   "outputs": [],
   "source": [
    "from langchain_core.messages import AIMessage, ToolMessage"
   ]
  },
  {
   "cell_type": "code",
   "execution_count": 98,
   "metadata": {},
   "outputs": [],
   "source": [
    "answer = \"it is just related to raining which is happing on daily basis\""
   ]
  },
  {
   "cell_type": "code",
   "execution_count": 99,
   "metadata": {},
   "outputs": [],
   "source": [
    "new_messages = [\n",
    "    ToolMessage(content=answer, tool_call_id=tool_call_id),\n",
    "    AIMessage(content=answer),\n",
    "]"
   ]
  },
  {
   "cell_type": "code",
   "execution_count": 100,
   "metadata": {},
   "outputs": [
    {
     "data": {
      "text/plain": [
       "{'configurable': {'thread_id': '1',\n",
       "  'checkpoint_ns': '',\n",
       "  'checkpoint_id': '1efe76c1-a12e-62b6-800c-75a3e47dc7c6'}}"
      ]
     },
     "execution_count": 100,
     "metadata": {},
     "output_type": "execute_result"
    }
   ],
   "source": [
    "app2.update_state(\n",
    "    config,\n",
    "    {\"messages\": new_messages},\n",
    ")"
   ]
  },
  {
   "cell_type": "code",
   "execution_count": 101,
   "metadata": {},
   "outputs": [
    {
     "name": "stdout",
     "output_type": "stream",
     "text": [
      "[AIMessage(content='it is just related to raining which is happing on daily basis', additional_kwargs={}, response_metadata={})]\n"
     ]
    }
   ],
   "source": [
    "print(app2.get_state(config).values[\"messages\"][-1:])"
   ]
  }
 ],
 "metadata": {
  "kernelspec": {
   "display_name": "Python 3",
   "language": "python",
   "name": "python3"
  },
  "language_info": {
   "codemirror_mode": {
    "name": "ipython",
    "version": 3
   },
   "file_extension": ".py",
   "mimetype": "text/x-python",
   "name": "python",
   "nbconvert_exporter": "python",
   "pygments_lexer": "ipython3",
   "version": "3.10.16"
  }
 },
 "nbformat": 4,
 "nbformat_minor": 2
}
