{
 "cells": [
  {
   "cell_type": "code",
   "execution_count": 25,
   "id": "041960c8",
   "metadata": {},
   "outputs": [
    {
     "data": {
      "text/plain": [
       "True"
      ]
     },
     "execution_count": 25,
     "metadata": {},
     "output_type": "execute_result"
    }
   ],
   "source": [
    "from typing import Annotated\n",
    "from typing_extensions import TypedDict\n",
    "from langgraph.graph import END, START\n",
    "from langgraph.graph.state import StateGraph\n",
    "from langgraph.graph.message import add_messages\n",
    "from langgraph.prebuilt import ToolNode\n",
    "from langchain_core.tools import tool\n",
    "from langchain_core.messages import BaseMessage\n",
    "import os\n",
    "from dotenv import load_dotenv\n",
    "load_dotenv()"
   ]
  },
  {
   "cell_type": "code",
   "execution_count": 26,
   "id": "2922bed9",
   "metadata": {},
   "outputs": [],
   "source": [
    "os.environ[\"LANGSMITH_PROJECT\"]=\"TestProject\""
   ]
  },
  {
   "cell_type": "code",
   "execution_count": 27,
   "id": "20277adb",
   "metadata": {},
   "outputs": [],
   "source": [
    "import os\n",
    "os.environ[\"GROQ_API_KEY\"]=os.getenv(\"GROQ_API_KEY\")\n",
    "os.environ[\"LANGSMITH_API_KEY\"]=os.getenv(\"LANGSMITH_API_KEY\")\n",
    "os.environ[\"LANGSMITH_TRACING\"]=\"true\"\n"
   ]
  },
  {
   "cell_type": "code",
   "execution_count": 28,
   "id": "bbddb96f",
   "metadata": {},
   "outputs": [
    {
     "data": {
      "text/plain": [
       "ChatGroq(client=<groq.resources.chat.completions.Completions object at 0x000002067EE83110>, async_client=<groq.resources.chat.completions.AsyncCompletions object at 0x000002067EF4D950>, model_name='llama3-8b-8192', model_kwargs={}, groq_api_key=SecretStr('**********'))"
      ]
     },
     "execution_count": 28,
     "metadata": {},
     "output_type": "execute_result"
    }
   ],
   "source": [
    "from langchain.chat_models import init_chat_model\n",
    "llm=init_chat_model(\"groq:llama3-8b-8192\")\n",
    "llm"
   ]
  },
  {
   "cell_type": "code",
   "execution_count": 29,
   "id": "3916246c",
   "metadata": {},
   "outputs": [],
   "source": [
    "class State(TypedDict):\n",
    "    messages:Annotated[list[BaseMessage],add_messages]"
   ]
  },
  {
   "cell_type": "code",
   "execution_count": 30,
   "id": "a3965619",
   "metadata": {},
   "outputs": [],
   "source": [
    "## Graph With tool Call\n",
    "from langchain_core.tools import tool\n",
    "\n",
    "@tool\n",
    "def add(a:float,b:float):\n",
    "    \"\"\"Add two number\"\"\"\n",
    "    return a+b\n",
    "tools=[add]\n",
    "tool_node=ToolNode([add])\n",
    "\n",
    "llm_with_tool=llm.bind_tools([add])\n",
    "\n",
    "def call_llm_model(state:State):\n",
    "    return {\"messages\":[llm_with_tool.invoke(state['messages'])]}\n"
   ]
  },
  {
   "cell_type": "code",
   "execution_count": 31,
   "id": "5e5362d9",
   "metadata": {},
   "outputs": [
    {
     "data": {
      "image/png": "[encoded data removed]",
      "text/plain": [
       "<IPython.core.display.Image object>"
      ]
     },
     "metadata": {},
     "output_type": "display_data"
    }
   ],
   "source": [
    "## Stategraph\n",
    "from langgraph.graph import StateGraph,START,END\n",
    "from langgraph.prebuilt import ToolNode\n",
    "from langgraph.prebuilt import tools_condition\n",
    "\n",
    "## Node definition\n",
    "def call_llm_model(state:State):\n",
    "    return {\"messages\":[llm_with_tool.invoke(state['messages'])]}\n",
    "## Grpah\n",
    "builder=StateGraph(State)\n",
    "builder.add_node(\"tool_calling_llm\",call_llm_model)\n",
    "builder.add_node(\"tools\",ToolNode(tools))\n",
    "\n",
    "## Add Edges\n",
    "builder.add_edge(START, \"tool_calling_llm\")\n",
    "builder.add_conditional_edges(\n",
    "    \"tool_calling_llm\",\n",
    "    # If the latest message (result) from assistant is a tool call -> tools_condition routes to tools\n",
    "    # If the latest message (result) from assistant is a not a tool call -> tools_condition routes to END\n",
    "    tools_condition\n",
    ")\n",
    "builder.add_edge(\"tools\",\"tool_calling_llm\")\n",
    "\n",
    "## compile the graph\n",
    "graph=builder.compile()\n",
    "\n",
    "from IPython.display import Image, display\n",
    "display(Image(graph.get_graph().draw_mermaid_png()))"
   ]
  },
  {
   "cell_type": "code",
   "execution_count": 32,
   "id": "8c05fb34",
   "metadata": {},
   "outputs": [],
   "source": [
    "response=graph.invoke({\"messages\":\"What is machine learning\"})"
   ]
  },
  {
   "cell_type": "code",
   "execution_count": 33,
   "id": "d6011c15",
   "metadata": {},
   "outputs": [
    {
     "data": {
      "text/plain": [
       "{'messages': [HumanMessage(content='What is machine learning', additional_kwargs={}, response_metadata={}, id='d54ac120-5770-4b7d-833a-693cce37cc4f'),\n",
       "  AIMessage(content=\"Machine learning is a subset of artificial intelligence (AI) that involves training algorithms to recognize patterns and make predictions or decisions based on data. It's a type of computer science that allows software to improve its performance on a task without being explicitly programmed for that task.\\n\\nMachine learning algorithms work by analyzing large amounts of data and identifying relationships, trends, and patterns within that data. They can then use this information to make predictions, classify new data, or make decisions without being explicitly programmed to do so.\\n\\nThere are several types of machine learning, including:\\n\\n1. Supervised learning: In this type of learning, the algorithm is trained on labeled data, where the correct output is already known. The algorithm learns to map inputs to outputs based on the labeled data.\\n2. Unsupervised learning: In this type of learning, the algorithm is trained on unlabeled data, and it must find patterns or structure within the data on its own.\\n3. Reinforcement learning: In this type of learning, the algorithm learns by interacting with an environment and receiving rewards or penalties for its actions.\\n\\nMachine learning has many applications in various fields, including:\\n\\n1. Image recognition: Machine learning algorithms can be trained to recognize objects, people, and animals in images and videos.\\n2. Natural language processing: Machine learning algorithms can be trained to understand and generate human language, enabling applications such as chatbots and language translation.\\n3. Predictive maintenance: Machine learning algorithms can be trained to predict when equipment or machinery is likely to fail, allowing for proactive maintenance and reducing downtime.\\n4. Recommendation systems: Machine learning algorithms can be trained to recommend products or services based on a user's behavior and preferences.\\n5. Medical diagnosis: Machine learning algorithms can be trained to analyze medical images and diagnose diseases more accurately than human doctors.\\n\\nMachine learning is a rapidly growing field, and its applications are becoming increasingly diverse and sophisticated.\", additional_kwargs={}, response_metadata={'token_usage': {'completion_tokens': 379, 'prompt_tokens': 1811, 'total_tokens': 2190, 'completion_time': 0.316978489, 'prompt_time': 0.20056062, 'queue_time': -0.498449178, 'total_time': 0.517539109}, 'model_name': 'llama3-8b-8192', 'system_fingerprint': 'fp_8b7c3a83f7', 'finish_reason': 'stop', 'logprobs': None}, id='run--3e555ea6-e6e0-449e-9993-c5180ed9e2af-0', usage_metadata={'input_tokens': 1811, 'output_tokens': 379, 'total_tokens': 2190})]}"
      ]
     },
     "execution_count": 33,
     "metadata": {},
     "output_type": "execute_result"
    }
   ],
   "source": [
    "response"
   ]
  },
  {
   "cell_type": "code",
   "execution_count": 34,
   "id": "d5834bcf",
   "metadata": {},
   "outputs": [
    {
     "name": "stdout",
     "output_type": "stream",
     "text": [
      "Machine learning is a subset of artificial intelligence (AI) that involves training algorithms to recognize patterns and make predictions or decisions based on data. It's a type of computer science that allows software to improve its performance on a task without being explicitly programmed for that task.\n",
      "\n",
      "Machine learning algorithms work by analyzing large amounts of data and identifying relationships, trends, and patterns within that data. They can then use this information to make predictions, classify new data, or make decisions without being explicitly programmed to do so.\n",
      "\n",
      "There are several types of machine learning, including:\n",
      "\n",
      "1. Supervised learning: In this type of learning, the algorithm is trained on labeled data, where the correct output is already known. The algorithm learns to map inputs to outputs based on the labeled data.\n",
      "2. Unsupervised learning: In this type of learning, the algorithm is trained on unlabeled data, and it must find patterns or structure within the data on its own.\n",
      "3. Reinforcement learning: In this type of learning, the algorithm learns by interacting with an environment and receiving rewards or penalties for its actions.\n",
      "\n",
      "Machine learning has many applications in various fields, including:\n",
      "\n",
      "1. Image recognition: Machine learning algorithms can be trained to recognize objects, people, and animals in images and videos.\n",
      "2. Natural language processing: Machine learning algorithms can be trained to understand and generate human language, enabling applications such as chatbots and language translation.\n",
      "3. Predictive maintenance: Machine learning algorithms can be trained to predict when equipment or machinery is likely to fail, allowing for proactive maintenance and reducing downtime.\n",
      "4. Recommendation systems: Machine learning algorithms can be trained to recommend products or services based on a user's behavior and preferences.\n",
      "5. Medical diagnosis: Machine learning algorithms can be trained to analyze medical images and diagnose diseases more accurately than human doctors.\n",
      "\n",
      "Machine learning is a rapidly growing field, and its applications are becoming increasingly diverse and sophisticated.\n"
     ]
    }
   ],
   "source": [
    "\n",
    "print(response['messages'][-1].content)"
   ]
  },
  {
   "cell_type": "code",
   "execution_count": 36,
   "id": "523ceb1b",
   "metadata": {},
   "outputs": [],
   "source": [
    "response=graph.invoke({\"messages\":\"what is 5 plus 20\"})"
   ]
  },
  {
   "cell_type": "code",
   "execution_count": 37,
   "id": "4407c973",
   "metadata": {},
   "outputs": [
    {
     "data": {
      "text/plain": [
       "{'messages': [HumanMessage(content='what is 5 plus 20', additional_kwargs={}, response_metadata={}, id='7da48e47-5879-44f3-aa0e-38343a63af65'),\n",
       "  AIMessage(content='', additional_kwargs={'tool_calls': [{'id': '7qnvqg8we', 'function': {'arguments': '{\"a\":5,\"b\":20}', 'name': 'add'}, 'type': 'function'}]}, response_metadata={'token_usage': {'completion_tokens': 72, 'prompt_tokens': 898, 'total_tokens': 970, 'completion_time': 0.060733417, 'prompt_time': 0.099746902, 'queue_time': 0.37344911599999997, 'total_time': 0.160480319}, 'model_name': 'llama3-8b-8192', 'system_fingerprint': 'fp_8b7c3a83f7', 'finish_reason': 'tool_calls', 'logprobs': None}, id='run--ee55c229-f729-45f7-8aa5-9a13e3fbc247-0', tool_calls=[{'name': 'add', 'args': {'a': 5, 'b': 20}, 'id': '7qnvqg8we', 'type': 'tool_call'}], usage_metadata={'input_tokens': 898, 'output_tokens': 72, 'total_tokens': 970}),\n",
       "  ToolMessage(content='25.0', name='add', id='0fe37d69-f981-466a-822f-df64cf21c2c5', tool_call_id='7qnvqg8we'),\n",
       "  AIMessage(content='', additional_kwargs={'tool_calls': [{'id': 'j066cpw8b', 'function': {'arguments': '{\"a\":25,\"b\":5}', 'name': 'add'}, 'type': 'function'}]}, response_metadata={'token_usage': {'completion_tokens': 36, 'prompt_tokens': 973, 'total_tokens': 1009, 'completion_time': 0.05780054, 'prompt_time': 0.108766357, 'queue_time': 0.35384016900000004, 'total_time': 0.166566897}, 'model_name': 'llama3-8b-8192', 'system_fingerprint': 'fp_8dc6ecaf8e', 'finish_reason': 'tool_calls', 'logprobs': None}, id='run--03bae73f-63b2-4ade-952b-b3a95fe16285-0', tool_calls=[{'name': 'add', 'args': {'a': 25, 'b': 5}, 'id': 'j066cpw8b', 'type': 'tool_call'}], usage_metadata={'input_tokens': 973, 'output_tokens': 36, 'total_tokens': 1009}),\n",
       "  ToolMessage(content='30.0', name='add', id='ed01cd19-c370-4f47-bc6b-57d0cb7c0575', tool_call_id='j066cpw8b'),\n",
       "  AIMessage(content='The answer is 30.0.', additional_kwargs={}, response_metadata={'token_usage': {'completion_tokens': 9, 'prompt_tokens': 1046, 'total_tokens': 1055, 'completion_time': 0.02128154, 'prompt_time': 0.118350062, 'queue_time': 0.442880214, 'total_time': 0.139631602}, 'model_name': 'llama3-8b-8192', 'system_fingerprint': 'fp_8dc6ecaf8e', 'finish_reason': 'stop', 'logprobs': None}, id='run--d63d9eda-3c62-4c1f-bdca-aaafd73b8e99-0', usage_metadata={'input_tokens': 1046, 'output_tokens': 9, 'total_tokens': 1055})]}"
      ]
     },
     "execution_count": 37,
     "metadata": {},
     "output_type": "execute_result"
    }
   ],
   "source": [
    "response"
   ]
  },
  {
   "cell_type": "code",
   "execution_count": 38,
   "id": "da3241f3",
   "metadata": {},
   "outputs": [
    {
     "name": "stdout",
     "output_type": "stream",
     "text": [
      "The answer is 30.0.\n"
     ]
    }
   ],
   "source": [
    "\n",
    "print(response['messages'][-1].content)"
   ]
  }
 ],
 "metadata": {
  "kernelspec": {
   "display_name": ".venv",
   "language": "python",
   "name": "python3"
  },
  "language_info": {
   "codemirror_mode": {
    "name": "ipython",
    "version": 3
   },
   "file_extension": ".py",
   "mimetype": "text/x-python",
   "name": "python",
   "nbconvert_exporter": "python",
   "pygments_lexer": "ipython3",
   "version": "3.13.3"
  }
 },
 "nbformat": 4,
 "nbformat_minor": 5
}
