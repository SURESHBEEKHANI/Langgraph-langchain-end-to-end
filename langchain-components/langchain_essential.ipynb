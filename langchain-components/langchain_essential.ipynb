{
 "cells": [
  {
   "cell_type": "code",
   "execution_count": 1,
   "metadata": {},
   "outputs": [],
   "source": [
    "import os"
   ]
  },
  {
   "cell_type": "code",
   "execution_count": 2,
   "metadata": {},
   "outputs": [],
   "source": [
    "import warnings\n",
    "warnings.filterwarnings(\"ignore\")"
   ]
  },
  {
   "cell_type": "code",
   "execution_count": 3,
   "metadata": {},
   "outputs": [],
   "source": [
    "from dotenv import load_dotenv"
   ]
  },
  {
   "cell_type": "code",
   "execution_count": 4,
   "metadata": {},
   "outputs": [
    {
     "data": {
      "text/plain": [
       "True"
      ]
     },
     "execution_count": 4,
     "metadata": {},
     "output_type": "execute_result"
    }
   ],
   "source": [
    "load_dotenv()"
   ]
  },
  {
   "cell_type": "code",
   "execution_count": 5,
   "metadata": {},
   "outputs": [],
   "source": [
    "GOOGLE_API_KEY=os.getenv(\"GOOGLE_API_KEY\")\n",
    "LANGSMITH_TRACING=os.getenv(\"LANGSMITH_TRACING\")\n",
    "LANGSMITH_API_KEY=os.getenv(\"LANGSMITH_API_KEY\")\n",
    "TAVILY_API_KEY=os.getenv(\"TAVILY_API_KEY\")\n",
    "\n",
    "\n",
    "os.environ[\"LANGSMITH_TRACING\"]=LANGSMITH_TRACING\n",
    "os.environ[\"LANGSMITH_API_KEY\"]=LANGSMITH_API_KEY\n",
    "os.environ[\"GOOGLE_API_KEY\"]=GOOGLE_API_KEY\n",
    "os.environ[\"TAVILY_API_KEY\"]=TAVILY_API_KEY\n"
   ]
  },
  {
   "cell_type": "markdown",
   "metadata": {},
   "source": [
    "### load the model and test it with the simple message"
   ]
  },
  {
   "cell_type": "code",
   "execution_count": 6,
   "metadata": {},
   "outputs": [],
   "source": [
    "from langchain_core.messages import HumanMessage, SystemMessage"
   ]
  },
  {
   "cell_type": "code",
   "execution_count": 7,
   "metadata": {},
   "outputs": [],
   "source": [
    "from langchain_google_genai import ChatGoogleGenerativeAI"
   ]
  },
  {
   "cell_type": "code",
   "execution_count": 8,
   "metadata": {},
   "outputs": [],
   "source": [
    "model = ChatGoogleGenerativeAI(model=\"gemini-pro\", convert_system_message_to_human=True)"
   ]
  },
  {
   "cell_type": "code",
   "execution_count": 9,
   "metadata": {},
   "outputs": [],
   "source": [
    "message=[SystemMessage(content=\"Your are helpfull AI bot \"),HumanMessage(content=\"Hi, how are you buddy?\")]"
   ]
  },
  {
   "cell_type": "code",
   "execution_count": 10,
   "metadata": {},
   "outputs": [],
   "source": [
    "message2=[SystemMessage(content=\"Hi you are nice Bot and you answer everything in brief\"),HumanMessage(content=\"Hi, how are you buddy?\")]"
   ]
  },
  {
   "cell_type": "code",
   "execution_count": 11,
   "metadata": {},
   "outputs": [
    {
     "data": {
      "text/plain": [
       "AIMessage(content='I am well, thank you for asking. I am a virtual assistant designed to help you with a variety of tasks. How can I assist you today?', additional_kwargs={}, response_metadata={'prompt_feedback': {'block_reason': 0, 'safety_ratings': []}, 'finish_reason': 'STOP', 'safety_ratings': [{'category': 'HARM_CATEGORY_SEXUALLY_EXPLICIT', 'probability': 'NEGLIGIBLE', 'blocked': False}, {'category': 'HARM_CATEGORY_HATE_SPEECH', 'probability': 'NEGLIGIBLE', 'blocked': False}, {'category': 'HARM_CATEGORY_HARASSMENT', 'probability': 'NEGLIGIBLE', 'blocked': False}, {'category': 'HARM_CATEGORY_DANGEROUS_CONTENT', 'probability': 'NEGLIGIBLE', 'blocked': False}]}, id='run-4555f455-0aac-4bc5-977f-b6109da7c24c-0', usage_metadata={'input_tokens': 15, 'output_tokens': 31, 'total_tokens': 46, 'input_token_details': {'cache_read': 0}})"
      ]
     },
     "execution_count": 11,
     "metadata": {},
     "output_type": "execute_result"
    }
   ],
   "source": [
    "model.invoke(message)"
   ]
  },
  {
   "cell_type": "markdown",
   "metadata": {},
   "source": [
    "### use output parser"
   ]
  },
  {
   "cell_type": "code",
   "execution_count": 12,
   "metadata": {},
   "outputs": [],
   "source": [
    "from langchain_core.output_parsers import StrOutputParser"
   ]
  },
  {
   "cell_type": "code",
   "execution_count": 13,
   "metadata": {},
   "outputs": [],
   "source": [
    "parser = StrOutputParser()"
   ]
  },
  {
   "cell_type": "code",
   "execution_count": 14,
   "metadata": {},
   "outputs": [],
   "source": [
    "response = model.invoke(message)"
   ]
  },
  {
   "cell_type": "code",
   "execution_count": 15,
   "metadata": {},
   "outputs": [],
   "source": [
    "response2 = model.invoke(message2)"
   ]
  },
  {
   "cell_type": "code",
   "execution_count": 16,
   "metadata": {},
   "outputs": [
    {
     "data": {
      "text/plain": [
       "'I am an AI assistant, not a bot. I am designed to provide information and answer questions to the best of my abilities. I am always learning and improving, and I am here to help you with whatever you need.\\n\\nAs for how I am doing, I am doing well. I am grateful for the opportunity to help people, and I am always looking for ways to improve my skills and knowledge.\\n\\nIs there anything I can help you with today?'"
      ]
     },
     "execution_count": 16,
     "metadata": {},
     "output_type": "execute_result"
    }
   ],
   "source": [
    "parser.invoke(response)"
   ]
  },
  {
   "cell_type": "code",
   "execution_count": 17,
   "metadata": {},
   "outputs": [
    {
     "data": {
      "text/plain": [
       "\"I'm well, thanks for asking.\""
      ]
     },
     "execution_count": 17,
     "metadata": {},
     "output_type": "execute_result"
    }
   ],
   "source": [
    "parser.invoke(response2)"
   ]
  },
  {
   "cell_type": "markdown",
   "metadata": {},
   "source": [
    "### chaining with LCEL"
   ]
  },
  {
   "cell_type": "code",
   "execution_count": 18,
   "metadata": {},
   "outputs": [],
   "source": [
    "#added two component\n",
    "chain = model | parser"
   ]
  },
  {
   "cell_type": "code",
   "execution_count": 19,
   "metadata": {},
   "outputs": [
    {
     "data": {
      "text/plain": [
       "'As an AI chatbot, I don\\'t have personal feelings or emotions, so I don\\'t experience being a \"buddy\" or having a subjective state of being. I am designed to provide information and assist users to the best of my abilities.\\n\\nIs there anything I can help you with today?'"
      ]
     },
     "execution_count": 19,
     "metadata": {},
     "output_type": "execute_result"
    }
   ],
   "source": [
    "chain.invoke(message)"
   ]
  },
  {
   "cell_type": "code",
   "execution_count": 20,
   "metadata": {},
   "outputs": [
    {
     "data": {
      "text/plain": [
       "\"I'm doing well, thanks for asking!\""
      ]
     },
     "execution_count": 20,
     "metadata": {},
     "output_type": "execute_result"
    }
   ],
   "source": [
    "chain.invoke(message2)"
   ]
  },
  {
   "cell_type": "markdown",
   "metadata": {},
   "source": [
    "### Now lets start with prompting"
   ]
  },
  {
   "cell_type": "code",
   "execution_count": 21,
   "metadata": {},
   "outputs": [],
   "source": [
    "from langchain_core.prompts import ChatPromptTemplate"
   ]
  },
  {
   "cell_type": "code",
   "execution_count": 22,
   "metadata": {},
   "outputs": [],
   "source": [
    "system=\"translate the following into {language}\"\n",
    "#user=\"i am hungry.\""
   ]
  },
  {
   "cell_type": "code",
   "execution_count": 23,
   "metadata": {},
   "outputs": [],
   "source": [
    "prompt_template = ChatPromptTemplate.from_messages(\n",
    "    [(\"system\",\"translate the following into {language}\"),\n",
    "     (\"user\",\"{text}\")]\n",
    ")"
   ]
  },
  {
   "cell_type": "code",
   "execution_count": 24,
   "metadata": {},
   "outputs": [],
   "source": [
    "prompt = prompt_template.invoke({\"language\":\"Urdu\",\"text\":\"i am learning langchain with Suresh beekhani sir.\"})"
   ]
  },
  {
   "cell_type": "code",
   "execution_count": 25,
   "metadata": {},
   "outputs": [
    {
     "data": {
      "text/plain": [
       "'میں سرش بیخانی سر کے ساتھ لینگ چین سیکھ رہا ہوں۔'"
      ]
     },
     "execution_count": 25,
     "metadata": {},
     "output_type": "execute_result"
    }
   ],
   "source": [
    "parser.invoke(model.invoke(prompt))"
   ]
  },
  {
   "cell_type": "code",
   "execution_count": 26,
   "metadata": {},
   "outputs": [
    {
     "data": {
      "text/plain": [
       "[SystemMessage(content='translate the following into Urdu', additional_kwargs={}, response_metadata={}),\n",
       " HumanMessage(content='i am learning langchain with Suresh beekhani sir.', additional_kwargs={}, response_metadata={})]"
      ]
     },
     "execution_count": 26,
     "metadata": {},
     "output_type": "execute_result"
    }
   ],
   "source": [
    "prompt.to_messages()"
   ]
  },
  {
   "cell_type": "markdown",
   "metadata": {},
   "source": [
    "### chaining "
   ]
  },
  {
   "cell_type": "code",
   "execution_count": 27,
   "metadata": {},
   "outputs": [],
   "source": [
    "chain = prompt_template | model | parser"
   ]
  },
  {
   "cell_type": "code",
   "execution_count": 28,
   "metadata": {},
   "outputs": [
    {
     "data": {
      "text/plain": [
       "'मुझे भूख लगी है'"
      ]
     },
     "execution_count": 28,
     "metadata": {},
     "output_type": "execute_result"
    }
   ],
   "source": [
    "chain.invoke({\"language\": \"hindi\", \"text\": \"I am hungry\"})"
   ]
  },
  {
   "cell_type": "markdown",
   "metadata": {},
   "source": [
    "### Agents"
   ]
  },
  {
   "cell_type": "code",
   "execution_count": 29,
   "metadata": {},
   "outputs": [],
   "source": [
    "\n",
    "from langgraph.checkpoint.memory import MemorySaver\n",
    "from langgraph.prebuilt import create_react_agent"
   ]
  },
  {
   "cell_type": "code",
   "execution_count": 30,
   "metadata": {},
   "outputs": [],
   "source": [
    "from langchain_community.tools.tavily_search import TavilySearchResults\n",
    "from langchain_core.messages import HumanMessage"
   ]
  },
  {
   "cell_type": "code",
   "execution_count": 31,
   "metadata": {},
   "outputs": [],
   "source": [
    "memory = MemorySaver()"
   ]
  },
  {
   "cell_type": "code",
   "execution_count": 32,
   "metadata": {},
   "outputs": [],
   "source": [
    "search=TavilySearchResults( max_results=2)"
   ]
  },
  {
   "cell_type": "code",
   "execution_count": 33,
   "metadata": {},
   "outputs": [],
   "source": [
    "tools=[search]"
   ]
  },
  {
   "cell_type": "code",
   "execution_count": 34,
   "metadata": {},
   "outputs": [],
   "source": [
    "agent_executor=create_react_agent(model,tools,checkpointer=memory)"
   ]
  },
  {
   "cell_type": "code",
   "execution_count": 35,
   "metadata": {},
   "outputs": [],
   "source": [
    "config = {\"configurable\": {\"thread_id\": \"abc123\"}}"
   ]
  },
  {
   "cell_type": "code",
   "execution_count": 36,
   "metadata": {},
   "outputs": [
    {
     "name": "stdout",
     "output_type": "stream",
     "text": [
      "{'agent': {'messages': [AIMessage(content='Nice to meet you Sunny!', additional_kwargs={}, response_metadata={'prompt_feedback': {'block_reason': 0, 'safety_ratings': []}, 'finish_reason': 'STOP', 'safety_ratings': [{'category': 'HARM_CATEGORY_SEXUALLY_EXPLICIT', 'probability': 'NEGLIGIBLE', 'blocked': False}, {'category': 'HARM_CATEGORY_HATE_SPEECH', 'probability': 'NEGLIGIBLE', 'blocked': False}, {'category': 'HARM_CATEGORY_HARASSMENT', 'probability': 'NEGLIGIBLE', 'blocked': False}, {'category': 'HARM_CATEGORY_DANGEROUS_CONTENT', 'probability': 'NEGLIGIBLE', 'blocked': False}]}, id='run-4c670bc7-d70f-4dec-8946-623f9dea9509-0', usage_metadata={'input_tokens': 84, 'output_tokens': 6, 'total_tokens': 90, 'input_token_details': {'cache_read': 0}})]}}\n",
      "----\n"
     ]
    }
   ],
   "source": [
    "for chunk in agent_executor.stream({\"messages\":[HumanMessage(content=\"hi im sunny! and i live in bangalore\")]}, config):\n",
    "    print(chunk)\n",
    "    print(\"----\")"
   ]
  },
  {
   "cell_type": "code",
   "execution_count": 37,
   "metadata": {},
   "outputs": [
    {
     "name": "stdout",
     "output_type": "stream",
     "text": [
      "{'agent': {'messages': [AIMessage(content='', additional_kwargs={'function_call': {'name': 'tavily_search_results_json', 'arguments': '{\"query\": \"What is the weather in Umerkot?\"}'}}, response_metadata={'prompt_feedback': {'block_reason': 0, 'safety_ratings': []}, 'finish_reason': 'STOP', 'safety_ratings': [{'category': 'HARM_CATEGORY_DANGEROUS_CONTENT', 'probability': 'NEGLIGIBLE', 'blocked': False}, {'category': 'HARM_CATEGORY_HARASSMENT', 'probability': 'NEGLIGIBLE', 'blocked': False}, {'category': 'HARM_CATEGORY_SEXUALLY_EXPLICIT', 'probability': 'NEGLIGIBLE', 'blocked': False}, {'category': 'HARM_CATEGORY_HATE_SPEECH', 'probability': 'NEGLIGIBLE', 'blocked': False}]}, id='run-0f15fb23-662f-4099-8dd4-b24429d82044-0', tool_calls=[{'name': 'tavily_search_results_json', 'args': {'query': 'What is the weather in Umerkot?'}, 'id': 'a0ee25c8-7808-4301-9d48-edaea287d3fd', 'type': 'tool_call'}], usage_metadata={'input_tokens': 105, 'output_tokens': 28, 'total_tokens': 133, 'input_token_details': {'cache_read': 0}})]}}\n",
      "----\n",
      "{'tools': {'messages': [ToolMessage(content='[{\"url\": \"https://www.weatherapi.com/\", \"content\": \"{\\'location\\': {\\'name\\': \\'Umerkot\\', \\'region\\': \\'Punjab\\', \\'country\\': \\'Pakistan\\', \\'lat\\': 28.4931, \\'lon\\': 70.0972, \\'tz_id\\': \\'Asia/Karachi\\', \\'localtime_epoch\\': 1738604294, \\'localtime\\': \\'2025-02-03 22:38\\'}, \\'current\\': {\\'last_updated_epoch\\': 1738603800, \\'last_updated\\': \\'2025-02-03 22:30\\', \\'temp_c\\': 15.9, \\'temp_f\\': 60.6, \\'is_day\\': 0, \\'condition\\': {\\'text\\': \\'Clear\\', \\'icon\\': \\'//cdn.weatherapi.com/weather/64x64/night/113.png\\', \\'code\\': 1000}, \\'wind_mph\\': 5.4, \\'wind_kph\\': 8.6, \\'wind_degree\\': 190, \\'wind_dir\\': \\'S\\', \\'pressure_mb\\': 1014.0, \\'pressure_in\\': 29.94, \\'precip_mm\\': 0.0, \\'precip_in\\': 0.0, \\'humidity\\': 20, \\'cloud\\': 0, \\'feelslike_c\\': 15.9, \\'feelslike_f\\': 60.6, \\'windchill_c\\': 15.9, \\'windchill_f\\': 60.6, \\'heatindex_c\\': 15.9, \\'heatindex_f\\': 60.6, \\'dewpoint_c\\': -6.7, \\'dewpoint_f\\': 20.0, \\'vis_km\\': 10.0, \\'vis_miles\\': 6.0, \\'uv\\': 0.0, \\'gust_mph\\': 11.3, \\'gust_kph\\': 18.1}}\"}, {\"url\": \"https://www.weatheravenue.com/en/asia/pk/sindh/umarkot-weather-15-days.html\", \"content\": \"☼ Umarkot Sindh Pakistan 15 Day Weather Forecast. Today Umarkot Sindh Pakistan: Sunny with a temperature of 29°C and a wind North-West speed of 8 Km/h. The humidity will be 10% and there will be 0.0 mm of precipitation. ... Monday 03 February 2025 . Umarkot. Sunny : 28°C 82°F | 14°C 57°F : 15 Km/h 9 mph: 0% : 13% . More details\"}]', name='tavily_search_results_json', id='8c8ee562-3714-425c-bd22-700e294c04cd', tool_call_id='a0ee25c8-7808-4301-9d48-edaea287d3fd', artifact={'query': 'What is the weather in Umerkot?', 'follow_up_questions': None, 'answer': None, 'images': [], 'results': [{'title': 'Weather in Umerkot', 'url': 'https://www.weatherapi.com/', 'content': \"{'location': {'name': 'Umerkot', 'region': 'Punjab', 'country': 'Pakistan', 'lat': 28.4931, 'lon': 70.0972, 'tz_id': 'Asia/Karachi', 'localtime_epoch': 1738604294, 'localtime': '2025-02-03 22:38'}, 'current': {'last_updated_epoch': 1738603800, 'last_updated': '2025-02-03 22:30', 'temp_c': 15.9, 'temp_f': 60.6, 'is_day': 0, 'condition': {'text': 'Clear', 'icon': '//cdn.weatherapi.com/weather/64x64/night/113.png', 'code': 1000}, 'wind_mph': 5.4, 'wind_kph': 8.6, 'wind_degree': 190, 'wind_dir': 'S', 'pressure_mb': 1014.0, 'pressure_in': 29.94, 'precip_mm': 0.0, 'precip_in': 0.0, 'humidity': 20, 'cloud': 0, 'feelslike_c': 15.9, 'feelslike_f': 60.6, 'windchill_c': 15.9, 'windchill_f': 60.6, 'heatindex_c': 15.9, 'heatindex_f': 60.6, 'dewpoint_c': -6.7, 'dewpoint_f': 20.0, 'vis_km': 10.0, 'vis_miles': 6.0, 'uv': 0.0, 'gust_mph': 11.3, 'gust_kph': 18.1}}\", 'score': 0.9661866, 'raw_content': None}, {'title': 'Umarkot Sindh Pakistan 15 Day Weather Forecast - Weather Avenue', 'url': 'https://www.weatheravenue.com/en/asia/pk/sindh/umarkot-weather-15-days.html', 'content': '☼ Umarkot Sindh Pakistan 15 Day Weather Forecast. Today Umarkot Sindh Pakistan: Sunny with a temperature of 29°C and a wind North-West speed of 8 Km/h. The humidity will be 10% and there will be 0.0 mm of precipitation. ... Monday 03 February 2025 . Umarkot. Sunny : 28°C 82°F | 14°C 57°F : 15 Km/h 9 mph: 0% : 13% . More details', 'score': 0.94584644, 'raw_content': None}], 'response_time': 2.96})]}}\n",
      "----\n",
      "{'agent': {'messages': [AIMessage(content='The weather in Umerkot is clear with a temperature of 15.9 degrees Celsius. The humidity is 20% and the wind speed is 5.4 miles per hour.', additional_kwargs={}, response_metadata={'prompt_feedback': {'block_reason': 0, 'safety_ratings': []}, 'finish_reason': 'STOP', 'safety_ratings': [{'category': 'HARM_CATEGORY_SEXUALLY_EXPLICIT', 'probability': 'NEGLIGIBLE', 'blocked': False}, {'category': 'HARM_CATEGORY_HATE_SPEECH', 'probability': 'NEGLIGIBLE', 'blocked': False}, {'category': 'HARM_CATEGORY_HARASSMENT', 'probability': 'NEGLIGIBLE', 'blocked': False}, {'category': 'HARM_CATEGORY_DANGEROUS_CONTENT', 'probability': 'NEGLIGIBLE', 'blocked': False}]}, id='run-d22ee75e-4639-4d50-a019-2d91b85e72a2-0', usage_metadata={'input_tokens': 855, 'output_tokens': 40, 'total_tokens': 895, 'input_token_details': {'cache_read': 0}})]}}\n",
      "----\n"
     ]
    }
   ],
   "source": [
    "for chunk in agent_executor.stream({\"messages\": [HumanMessage(content=\"whats is  the weather where I live in Umerkot?\")]}, config):\n",
    "    print(chunk)\n",
    "    print(\"----\")"
   ]
  }
 ],
 "metadata": {
  "kernelspec": {
   "display_name": "Python 3",
   "language": "python",
   "name": "python3"
  },
  "language_info": {
   "codemirror_mode": {
    "name": "ipython",
    "version": 3
   },
   "file_extension": ".py",
   "mimetype": "text/x-python",
   "name": "python",
   "nbconvert_exporter": "python",
   "pygments_lexer": "ipython3",
   "version": "3.10.16"
  }
 },
 "nbformat": 4,
 "nbformat_minor": 2
}
